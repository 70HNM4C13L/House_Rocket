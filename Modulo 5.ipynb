{
 "cells": [
  {
   "cell_type": "code",
   "execution_count": null,
   "id": "2a45b237",
   "metadata": {
    "ExecuteTime": {
     "end_time": "2022-05-12T01:21:29.687653Z",
     "start_time": "2022-05-12T01:21:29.673689Z"
    }
   },
   "outputs": [],
   "source": [
    "# from IPython.core.display import HTML\n",
    "# import pandas as pd\n",
    "# import seaborn as sns\n",
    "# import numpy as np\n",
    "# pd.set_option('display.float_format', lambda x: '%.3f' % x)\n",
    "# from geopy import Nominatim\n",
    "# from multiprocessing import Pool\n",
    "# import plotly.express as px"
   ]
  },
  {
   "cell_type": "code",
   "execution_count": null,
   "id": "38c012ee",
   "metadata": {
    "ExecuteTime": {
     "end_time": "2022-05-12T01:21:29.702611Z",
     "start_time": "2022-05-12T01:21:29.688650Z"
    },
    "code_folding": []
   },
   "outputs": [],
   "source": [
    "# data = pd.read_csv('archive/kc_house_data.csv')\n",
    "# data.head()"
   ]
  },
  {
   "cell_type": "code",
   "execution_count": null,
   "id": "aa988275",
   "metadata": {
    "ExecuteTime": {
     "end_time": "2022-05-12T01:21:29.718666Z",
     "start_time": "2022-05-12T01:21:29.703609Z"
    }
   },
   "outputs": [],
   "source": [
    "# #data dimensions\n",
    "# print('Number of rows: {}'.format( data.shape[0]))\n",
    "# print('Number of collumns: {}'.format( data.shape[1]))\n",
    "# data['date'] = pd.to_datetime(data['date'])\n",
    "# data.dtypes"
   ]
  },
  {
   "cell_type": "code",
   "execution_count": null,
   "id": "ccc70096",
   "metadata": {
    "ExecuteTime": {
     "end_time": "2022-05-12T01:21:29.734416Z",
     "start_time": "2022-05-12T01:21:29.719374Z"
    }
   },
   "outputs": [],
   "source": [
    "# #descriptive statics\n",
    "# num_data = data.select_dtypes(include=[ 'int64', 'float64'])\n",
    "\n",
    "# #central\n",
    "# media =   pd.DataFrame(num_data.apply(np.mean, axis=0))\n",
    "# mediana = pd.DataFrame(num_data.apply(np.median, axis=0))\n",
    "\n",
    "# #dispersion\n",
    "# std =  pd.DataFrame(num_data.apply(np.std))\n",
    "# max_ = pd.DataFrame(num_data.apply(np.max))\n",
    "# min_ = pd.DataFrame(num_data.apply(np.min))\n",
    "\n",
    "# df1 = pd.concat([media,mediana,std,max_,min_], axis=1).reset_index()\n",
    "# df1.columns = ['atributes','media','mediana','std','max','min']\n",
    "# print('Number of rows: {}'.format( df1.shape[0]))\n",
    "# print('Number of collumns: {}'.format( df1.shape[1]))"
   ]
  },
  {
   "cell_type": "code",
   "execution_count": null,
   "id": "2c9b12db",
   "metadata": {
    "ExecuteTime": {
     "end_time": "2022-05-12T01:21:29.750465Z",
     "start_time": "2022-05-12T01:21:29.735413Z"
    },
    "code_folding": []
   },
   "outputs": [],
   "source": [
    "# #Dormitory Type\n",
    "# data['dormitory_type'] = data['bedrooms'].apply(lambda x : 'studio' if x == 1 else\n",
    "#                                                            'apartament' if x == 2 else\n",
    "#                                                             'house' if x > 2 else 'NA')\n",
    "# print('Number of rows: {}'.format( data.shape[0]))\n",
    "# print('Number of collumns: {}'.format( data.shape[1]))"
   ]
  },
  {
   "cell_type": "code",
   "execution_count": null,
   "id": "ea5854f0",
   "metadata": {
    "ExecuteTime": {
     "end_time": "2022-05-12T01:21:29.766424Z",
     "start_time": "2022-05-12T01:21:29.751439Z"
    }
   },
   "outputs": [],
   "source": [
    "# # Price Level\n",
    "# data['level'] = data['price'].apply(lambda x : 0 if 0 < x <= 321950 else\n",
    "#                                           1 if 321950 < x <= 450000 else\n",
    "#                                           2 if 450000 < x <= 645000 else\n",
    "#                                           3 )"
   ]
  },
  {
   "cell_type": "code",
   "execution_count": null,
   "id": "a1a2a4a0",
   "metadata": {
    "ExecuteTime": {
     "end_time": "2022-05-12T01:21:29.781646Z",
     "start_time": "2022-05-12T01:21:29.767423Z"
    }
   },
   "outputs": [],
   "source": [
    "# #initialize api\n",
    "# geolocator = Nominatim( user_agent= 'geopiExercises')\n",
    "# for i in range(len(data.sample(20))):\n",
    "#     query = f'{data.loc[i,\"lat\"]},{data.loc[i,\"long\"]}'\n",
    "#     response = geolocator.reverse(query)\n",
    "    \n",
    "#     if 'house_number' in response.raw['address']:\n",
    "#         data.loc[i,\"house_number\"] = response.raw['address']['house_number']\n",
    "    \n",
    "#     if 'road' in response.raw['address']:\n",
    "#         data.loc[i,\"road\"] = response.raw['address']['road']\n"
   ]
  },
  {
   "cell_type": "code",
   "execution_count": null,
   "id": "e5ab971d",
   "metadata": {
    "ExecuteTime": {
     "end_time": "2022-05-12T01:21:29.797694Z",
     "start_time": "2022-05-12T01:21:29.782656Z"
    }
   },
   "outputs": [],
   "source": [
    "# #map\n",
    "\n",
    "# map_house = data[['id','price','lat','long', 'level']].copy()\n",
    "# fig = px.scatter_mapbox(map_house,\n",
    "#                  lat = 'lat',\n",
    "#                  lon = 'long',\n",
    "#                  color = 'level',\n",
    "#                  size = 'price',\n",
    "#                  color_continuous_scale= px.colors.sequential.thermal,\n",
    "#                  size_max = 15,\n",
    "#                  zoom = 9\n",
    "#                  )\n",
    "# fig.update_layout(mapbox_style = 'open-street-map')\n",
    "# fig.update_layout(margin = {'r':0, 'l':0, 't':0, 'b':0} )\n",
    "# fig.show()"
   ]
  },
  {
   "cell_type": "markdown",
   "id": "c42d6eb5",
   "metadata": {},
   "source": [
    "# ETL\n",
    "## Extraction, Load, Transformation\n",
    "\n"
   ]
  },
  {
   "cell_type": "markdown",
   "id": "149dd5c3",
   "metadata": {},
   "source": [
    "### Engenheiros de dados construir e manter ETL\n",
    "### Cientista construir e manter ETL, criar tabelas de treinos para ML"
   ]
  },
  {
   "cell_type": "code",
   "execution_count": 31,
   "id": "dfa043b0",
   "metadata": {
    "ExecuteTime": {
     "end_time": "2022-05-12T02:00:19.547718Z",
     "start_time": "2022-05-12T02:00:19.541709Z"
    }
   },
   "outputs": [],
   "source": [
    "#imports\n",
    "\n",
    "\n",
    "from IPython.core.display import HTML\n",
    "import pandas as pd\n",
    "import seaborn as sns\n",
    "import numpy as np\n",
    "pd.set_option('display.float_format', lambda x: '%.3f' % x)\n",
    "from geopy import Nominatim\n",
    "from multiprocessing import Pool\n",
    "import plotly.express as px\n",
    "import defs\n",
    "\n"
   ]
  },
  {
   "cell_type": "code",
   "execution_count": 28,
   "id": "144814c8",
   "metadata": {
    "ExecuteTime": {
     "end_time": "2022-05-12T01:59:02.523701Z",
     "start_time": "2022-05-12T01:59:02.501730Z"
    }
   },
   "outputs": [],
   "source": [
    "#functions\n",
    "\n",
    "\n",
    "def show_dtypes(data):\n",
    "    print(data.dtypes)\n",
    "    return None\n",
    "\n",
    "def show_dimensions(data):\n",
    "    print('Number of rows: {}'.format( data.shape[0]))\n",
    "    print('Number of collumns: {}'.format( data.shape[1]))\n",
    "    return None\n",
    "\n",
    "def collect_geodata(data, cols):\n",
    "    geolocator = Nominatim( user_agent= 'geopiExercises')\n",
    "    data = data.head(20)\n",
    "    data.loc[:,cols[0]] = 'NA'\n",
    "    data.loc[:,cols[1]] = 'NA'\n",
    "    for i in range(len(data)):\n",
    "        query = f'{data.loc[i,\"lat\"]},{data.loc[i,\"long\"]}'\n",
    "        response = geolocator.reverse(query)\n",
    "    \n",
    "        if cols[0] in response.raw['address']:\n",
    "            data.loc[i,cols[0]] = response.raw['address'][cols[0]]\n",
    "    \n",
    "        if cols[1] in response.raw['address']:\n",
    "            data.loc[i,cols[1]] = response.raw['address'][cols[1]]\n",
    "    return data\n",
    "    \n",
    "    \n",
    "def build_map(data):\n",
    "    map_house = data[['id','price','lat','long', 'level']].copy()\n",
    "    fig = px.scatter_mapbox(map_house,\n",
    "                     lat = 'lat',\n",
    "                     lon = 'long',\n",
    "                     color = 'level',\n",
    "                     size = 'price',\n",
    "                     color_continuous_scale= px.colors.sequential.thermal,\n",
    "                     size_max = 15,\n",
    "                     zoom = 9\n",
    "                     )\n",
    "    fig.update_layout(mapbox_style = 'open-street-map')\n",
    "    fig.update_layout(margin = {'r':0, 'l':0, 't':0, 'b':0} )\n",
    "    fig.show()\n",
    "\n",
    "    \n",
    "#ETL FUNCTIONS\n",
    "\n",
    "\n",
    "def data_collect(path):    \n",
    "    data = pd.read_csv(path)\n",
    "    show_dimensions(data)\n",
    "    show_dtypes(data)\n",
    "    return data\n",
    "\n",
    "\n",
    "def data_transform(data):\n",
    "    num_data = data.select_dtypes(include=[ 'int64', 'float64'])\n",
    "\n",
    "    #central\n",
    "    media =   pd.DataFrame(num_data.apply(np.mean, axis=0))\n",
    "    mediana = pd.DataFrame(num_data.apply(np.median, axis=0))\n",
    "\n",
    "    #dispersion\n",
    "    std =  pd.DataFrame(num_data.apply(np.std))\n",
    "    max_ = pd.DataFrame(num_data.apply(np.max))\n",
    "    min_ = pd.DataFrame(num_data.apply(np.min))\n",
    "\n",
    "    df1 = pd.concat([media,mediana,std,max_,min_], axis=1).reset_index()\n",
    "    df1.columns = ['atributes','media','mediana','std','max','min']\n",
    "    show_dimensions(df1)\n",
    "\n",
    "    #  Dormitory Type\n",
    "    data['dormitory_type'] = data['bedrooms'].apply(lambda x : 'studio' if x == 1 else\n",
    "                                                               'apartament' if x == 2 else\n",
    "                                                                'house' if x > 2 else 'NA')\n",
    "    show_dimensions(data)\n",
    "\n",
    "    # Price Level\n",
    "    data['level'] = data['price'].apply(lambda x : 0 if 0 < x <= 321950 else\n",
    "                                                  1 if 321950 < x <= 450000 else\n",
    "                                                  2 if 450000 < x <= 645000 else\n",
    "                                                  3 )\n",
    "    #add colluns\n",
    "    cols = ['road','house_number']\n",
    "    data = collect_geodata(data,cols)\n",
    "    return data\n",
    "\n",
    "\n",
    "\n",
    "def data_load(data):\n",
    "    build_map(data)\n",
    "    return None\n",
    "    \n",
    "\n"
   ]
  },
  {
   "cell_type": "code",
   "execution_count": 29,
   "id": "88b23e40",
   "metadata": {
    "ExecuteTime": {
     "end_time": "2022-05-12T01:59:14.367140Z",
     "start_time": "2022-05-12T01:59:04.115468Z"
    }
   },
   "outputs": [
    {
     "name": "stdout",
     "output_type": "stream",
     "text": [
      "Number of rows: 21613\n",
      "Number of collumns: 21\n",
      "id                 int64\n",
      "date              object\n",
      "price            float64\n",
      "bedrooms           int64\n",
      "bathrooms        float64\n",
      "sqft_living        int64\n",
      "sqft_lot           int64\n",
      "floors           float64\n",
      "waterfront         int64\n",
      "view               int64\n",
      "condition          int64\n",
      "grade              int64\n",
      "sqft_above         int64\n",
      "sqft_basement      int64\n",
      "yr_built           int64\n",
      "yr_renovated       int64\n",
      "zipcode            int64\n",
      "lat              float64\n",
      "long             float64\n",
      "sqft_living15      int64\n",
      "sqft_lot15         int64\n",
      "dtype: object\n",
      "Number of rows: 20\n",
      "Number of collumns: 6\n",
      "Number of rows: 21613\n",
      "Number of collumns: 22\n"
     ]
    },
    {
     "name": "stderr",
     "output_type": "stream",
     "text": [
      "C:\\Users\\johna\\AppData\\Local\\Temp\\ipykernel_11652\\2064160222.py:16: SettingWithCopyWarning:\n",
      "\n",
      "\n",
      "A value is trying to be set on a copy of a slice from a DataFrame.\n",
      "Try using .loc[row_indexer,col_indexer] = value instead\n",
      "\n",
      "See the caveats in the documentation: https://pandas.pydata.org/pandas-docs/stable/user_guide/indexing.html#returning-a-view-versus-a-copy\n",
      "\n",
      "C:\\Users\\johna\\AppData\\Local\\Temp\\ipykernel_11652\\2064160222.py:17: SettingWithCopyWarning:\n",
      "\n",
      "\n",
      "A value is trying to be set on a copy of a slice from a DataFrame.\n",
      "Try using .loc[row_indexer,col_indexer] = value instead\n",
      "\n",
      "See the caveats in the documentation: https://pandas.pydata.org/pandas-docs/stable/user_guide/indexing.html#returning-a-view-versus-a-copy\n",
      "\n"
     ]
    },
    {
     "data": {
      "application/vnd.plotly.v1+json": {
       "config": {
        "plotlyServerURL": "https://plot.ly"
       },
       "data": [
        {
         "hovertemplate": "price=%{marker.size}<br>lat=%{lat}<br>long=%{lon}<br>level=%{marker.color}<extra></extra>",
         "lat": [
          47.5112,
          47.721,
          47.7379,
          47.5208,
          47.6168,
          47.6561,
          47.3097,
          47.4095,
          47.5123,
          47.3684,
          47.6007,
          47.69,
          47.7558,
          47.6127,
          47.67,
          47.5714,
          47.7277,
          47.6648,
          47.3089,
          47.3343
         ],
         "legendgroup": "",
         "lon": [
          -122.257,
          -122.319,
          -122.233,
          -122.393,
          -122.045,
          -122.005,
          -122.327,
          -122.315,
          -122.337,
          -122.031,
          -122.145,
          -122.292,
          -122.229,
          -122.045,
          -122.394,
          -122.375,
          -121.962,
          -122.343,
          -122.21,
          -122.306
         ],
         "marker": {
          "color": [
           0,
           2,
           0,
           2,
           2,
           3,
           0,
           0,
           0,
           1,
           3,
           2,
           0,
           1,
           2,
           3,
           1,
           2,
           0,
           0
          ],
          "coloraxis": "coloraxis",
          "size": [
           221900,
           538000,
           180000,
           604000,
           510000,
           1225000,
           257500,
           291850,
           229500,
           323000,
           662500,
           468000,
           310000,
           400000,
           530000,
           650000,
           395000,
           485000,
           189000,
           230000
          ],
          "sizemode": "area",
          "sizeref": 5444.444444444444
         },
         "mode": "markers",
         "name": "",
         "showlegend": false,
         "subplot": "mapbox",
         "type": "scattermapbox"
        }
       ],
       "layout": {
        "coloraxis": {
         "colorbar": {
          "title": {
           "text": "level"
          }
         },
         "colorscale": [
          [
           0,
           "rgb(3, 35, 51)"
          ],
          [
           0.09090909090909091,
           "rgb(13, 48, 100)"
          ],
          [
           0.18181818181818182,
           "rgb(53, 50, 155)"
          ],
          [
           0.2727272727272727,
           "rgb(93, 62, 153)"
          ],
          [
           0.36363636363636365,
           "rgb(126, 77, 143)"
          ],
          [
           0.45454545454545453,
           "rgb(158, 89, 135)"
          ],
          [
           0.5454545454545454,
           "rgb(193, 100, 121)"
          ],
          [
           0.6363636363636364,
           "rgb(225, 113, 97)"
          ],
          [
           0.7272727272727273,
           "rgb(246, 139, 69)"
          ],
          [
           0.8181818181818182,
           "rgb(251, 173, 60)"
          ],
          [
           0.9090909090909091,
           "rgb(246, 211, 70)"
          ],
          [
           1,
           "rgb(231, 250, 90)"
          ]
         ]
        },
        "legend": {
         "itemsizing": "constant",
         "tracegroupgap": 0
        },
        "mapbox": {
         "center": {
          "lat": 47.565000000000005,
          "lon": -122.22815
         },
         "domain": {
          "x": [
           0,
           1
          ],
          "y": [
           0,
           1
          ]
         },
         "style": "open-street-map",
         "zoom": 9
        },
        "margin": {
         "b": 0,
         "l": 0,
         "r": 0,
         "t": 0
        },
        "template": {
         "data": {
          "bar": [
           {
            "error_x": {
             "color": "#2a3f5f"
            },
            "error_y": {
             "color": "#2a3f5f"
            },
            "marker": {
             "line": {
              "color": "#E5ECF6",
              "width": 0.5
             },
             "pattern": {
              "fillmode": "overlay",
              "size": 10,
              "solidity": 0.2
             }
            },
            "type": "bar"
           }
          ],
          "barpolar": [
           {
            "marker": {
             "line": {
              "color": "#E5ECF6",
              "width": 0.5
             },
             "pattern": {
              "fillmode": "overlay",
              "size": 10,
              "solidity": 0.2
             }
            },
            "type": "barpolar"
           }
          ],
          "carpet": [
           {
            "aaxis": {
             "endlinecolor": "#2a3f5f",
             "gridcolor": "white",
             "linecolor": "white",
             "minorgridcolor": "white",
             "startlinecolor": "#2a3f5f"
            },
            "baxis": {
             "endlinecolor": "#2a3f5f",
             "gridcolor": "white",
             "linecolor": "white",
             "minorgridcolor": "white",
             "startlinecolor": "#2a3f5f"
            },
            "type": "carpet"
           }
          ],
          "choropleth": [
           {
            "colorbar": {
             "outlinewidth": 0,
             "ticks": ""
            },
            "type": "choropleth"
           }
          ],
          "contour": [
           {
            "colorbar": {
             "outlinewidth": 0,
             "ticks": ""
            },
            "colorscale": [
             [
              0,
              "#0d0887"
             ],
             [
              0.1111111111111111,
              "#46039f"
             ],
             [
              0.2222222222222222,
              "#7201a8"
             ],
             [
              0.3333333333333333,
              "#9c179e"
             ],
             [
              0.4444444444444444,
              "#bd3786"
             ],
             [
              0.5555555555555556,
              "#d8576b"
             ],
             [
              0.6666666666666666,
              "#ed7953"
             ],
             [
              0.7777777777777778,
              "#fb9f3a"
             ],
             [
              0.8888888888888888,
              "#fdca26"
             ],
             [
              1,
              "#f0f921"
             ]
            ],
            "type": "contour"
           }
          ],
          "contourcarpet": [
           {
            "colorbar": {
             "outlinewidth": 0,
             "ticks": ""
            },
            "type": "contourcarpet"
           }
          ],
          "heatmap": [
           {
            "colorbar": {
             "outlinewidth": 0,
             "ticks": ""
            },
            "colorscale": [
             [
              0,
              "#0d0887"
             ],
             [
              0.1111111111111111,
              "#46039f"
             ],
             [
              0.2222222222222222,
              "#7201a8"
             ],
             [
              0.3333333333333333,
              "#9c179e"
             ],
             [
              0.4444444444444444,
              "#bd3786"
             ],
             [
              0.5555555555555556,
              "#d8576b"
             ],
             [
              0.6666666666666666,
              "#ed7953"
             ],
             [
              0.7777777777777778,
              "#fb9f3a"
             ],
             [
              0.8888888888888888,
              "#fdca26"
             ],
             [
              1,
              "#f0f921"
             ]
            ],
            "type": "heatmap"
           }
          ],
          "heatmapgl": [
           {
            "colorbar": {
             "outlinewidth": 0,
             "ticks": ""
            },
            "colorscale": [
             [
              0,
              "#0d0887"
             ],
             [
              0.1111111111111111,
              "#46039f"
             ],
             [
              0.2222222222222222,
              "#7201a8"
             ],
             [
              0.3333333333333333,
              "#9c179e"
             ],
             [
              0.4444444444444444,
              "#bd3786"
             ],
             [
              0.5555555555555556,
              "#d8576b"
             ],
             [
              0.6666666666666666,
              "#ed7953"
             ],
             [
              0.7777777777777778,
              "#fb9f3a"
             ],
             [
              0.8888888888888888,
              "#fdca26"
             ],
             [
              1,
              "#f0f921"
             ]
            ],
            "type": "heatmapgl"
           }
          ],
          "histogram": [
           {
            "marker": {
             "pattern": {
              "fillmode": "overlay",
              "size": 10,
              "solidity": 0.2
             }
            },
            "type": "histogram"
           }
          ],
          "histogram2d": [
           {
            "colorbar": {
             "outlinewidth": 0,
             "ticks": ""
            },
            "colorscale": [
             [
              0,
              "#0d0887"
             ],
             [
              0.1111111111111111,
              "#46039f"
             ],
             [
              0.2222222222222222,
              "#7201a8"
             ],
             [
              0.3333333333333333,
              "#9c179e"
             ],
             [
              0.4444444444444444,
              "#bd3786"
             ],
             [
              0.5555555555555556,
              "#d8576b"
             ],
             [
              0.6666666666666666,
              "#ed7953"
             ],
             [
              0.7777777777777778,
              "#fb9f3a"
             ],
             [
              0.8888888888888888,
              "#fdca26"
             ],
             [
              1,
              "#f0f921"
             ]
            ],
            "type": "histogram2d"
           }
          ],
          "histogram2dcontour": [
           {
            "colorbar": {
             "outlinewidth": 0,
             "ticks": ""
            },
            "colorscale": [
             [
              0,
              "#0d0887"
             ],
             [
              0.1111111111111111,
              "#46039f"
             ],
             [
              0.2222222222222222,
              "#7201a8"
             ],
             [
              0.3333333333333333,
              "#9c179e"
             ],
             [
              0.4444444444444444,
              "#bd3786"
             ],
             [
              0.5555555555555556,
              "#d8576b"
             ],
             [
              0.6666666666666666,
              "#ed7953"
             ],
             [
              0.7777777777777778,
              "#fb9f3a"
             ],
             [
              0.8888888888888888,
              "#fdca26"
             ],
             [
              1,
              "#f0f921"
             ]
            ],
            "type": "histogram2dcontour"
           }
          ],
          "mesh3d": [
           {
            "colorbar": {
             "outlinewidth": 0,
             "ticks": ""
            },
            "type": "mesh3d"
           }
          ],
          "parcoords": [
           {
            "line": {
             "colorbar": {
              "outlinewidth": 0,
              "ticks": ""
             }
            },
            "type": "parcoords"
           }
          ],
          "pie": [
           {
            "automargin": true,
            "type": "pie"
           }
          ],
          "scatter": [
           {
            "marker": {
             "colorbar": {
              "outlinewidth": 0,
              "ticks": ""
             }
            },
            "type": "scatter"
           }
          ],
          "scatter3d": [
           {
            "line": {
             "colorbar": {
              "outlinewidth": 0,
              "ticks": ""
             }
            },
            "marker": {
             "colorbar": {
              "outlinewidth": 0,
              "ticks": ""
             }
            },
            "type": "scatter3d"
           }
          ],
          "scattercarpet": [
           {
            "marker": {
             "colorbar": {
              "outlinewidth": 0,
              "ticks": ""
             }
            },
            "type": "scattercarpet"
           }
          ],
          "scattergeo": [
           {
            "marker": {
             "colorbar": {
              "outlinewidth": 0,
              "ticks": ""
             }
            },
            "type": "scattergeo"
           }
          ],
          "scattergl": [
           {
            "marker": {
             "colorbar": {
              "outlinewidth": 0,
              "ticks": ""
             }
            },
            "type": "scattergl"
           }
          ],
          "scattermapbox": [
           {
            "marker": {
             "colorbar": {
              "outlinewidth": 0,
              "ticks": ""
             }
            },
            "type": "scattermapbox"
           }
          ],
          "scatterpolar": [
           {
            "marker": {
             "colorbar": {
              "outlinewidth": 0,
              "ticks": ""
             }
            },
            "type": "scatterpolar"
           }
          ],
          "scatterpolargl": [
           {
            "marker": {
             "colorbar": {
              "outlinewidth": 0,
              "ticks": ""
             }
            },
            "type": "scatterpolargl"
           }
          ],
          "scatterternary": [
           {
            "marker": {
             "colorbar": {
              "outlinewidth": 0,
              "ticks": ""
             }
            },
            "type": "scatterternary"
           }
          ],
          "surface": [
           {
            "colorbar": {
             "outlinewidth": 0,
             "ticks": ""
            },
            "colorscale": [
             [
              0,
              "#0d0887"
             ],
             [
              0.1111111111111111,
              "#46039f"
             ],
             [
              0.2222222222222222,
              "#7201a8"
             ],
             [
              0.3333333333333333,
              "#9c179e"
             ],
             [
              0.4444444444444444,
              "#bd3786"
             ],
             [
              0.5555555555555556,
              "#d8576b"
             ],
             [
              0.6666666666666666,
              "#ed7953"
             ],
             [
              0.7777777777777778,
              "#fb9f3a"
             ],
             [
              0.8888888888888888,
              "#fdca26"
             ],
             [
              1,
              "#f0f921"
             ]
            ],
            "type": "surface"
           }
          ],
          "table": [
           {
            "cells": {
             "fill": {
              "color": "#EBF0F8"
             },
             "line": {
              "color": "white"
             }
            },
            "header": {
             "fill": {
              "color": "#C8D4E3"
             },
             "line": {
              "color": "white"
             }
            },
            "type": "table"
           }
          ]
         },
         "layout": {
          "annotationdefaults": {
           "arrowcolor": "#2a3f5f",
           "arrowhead": 0,
           "arrowwidth": 1
          },
          "autotypenumbers": "strict",
          "coloraxis": {
           "colorbar": {
            "outlinewidth": 0,
            "ticks": ""
           }
          },
          "colorscale": {
           "diverging": [
            [
             0,
             "#8e0152"
            ],
            [
             0.1,
             "#c51b7d"
            ],
            [
             0.2,
             "#de77ae"
            ],
            [
             0.3,
             "#f1b6da"
            ],
            [
             0.4,
             "#fde0ef"
            ],
            [
             0.5,
             "#f7f7f7"
            ],
            [
             0.6,
             "#e6f5d0"
            ],
            [
             0.7,
             "#b8e186"
            ],
            [
             0.8,
             "#7fbc41"
            ],
            [
             0.9,
             "#4d9221"
            ],
            [
             1,
             "#276419"
            ]
           ],
           "sequential": [
            [
             0,
             "#0d0887"
            ],
            [
             0.1111111111111111,
             "#46039f"
            ],
            [
             0.2222222222222222,
             "#7201a8"
            ],
            [
             0.3333333333333333,
             "#9c179e"
            ],
            [
             0.4444444444444444,
             "#bd3786"
            ],
            [
             0.5555555555555556,
             "#d8576b"
            ],
            [
             0.6666666666666666,
             "#ed7953"
            ],
            [
             0.7777777777777778,
             "#fb9f3a"
            ],
            [
             0.8888888888888888,
             "#fdca26"
            ],
            [
             1,
             "#f0f921"
            ]
           ],
           "sequentialminus": [
            [
             0,
             "#0d0887"
            ],
            [
             0.1111111111111111,
             "#46039f"
            ],
            [
             0.2222222222222222,
             "#7201a8"
            ],
            [
             0.3333333333333333,
             "#9c179e"
            ],
            [
             0.4444444444444444,
             "#bd3786"
            ],
            [
             0.5555555555555556,
             "#d8576b"
            ],
            [
             0.6666666666666666,
             "#ed7953"
            ],
            [
             0.7777777777777778,
             "#fb9f3a"
            ],
            [
             0.8888888888888888,
             "#fdca26"
            ],
            [
             1,
             "#f0f921"
            ]
           ]
          },
          "colorway": [
           "#636efa",
           "#EF553B",
           "#00cc96",
           "#ab63fa",
           "#FFA15A",
           "#19d3f3",
           "#FF6692",
           "#B6E880",
           "#FF97FF",
           "#FECB52"
          ],
          "font": {
           "color": "#2a3f5f"
          },
          "geo": {
           "bgcolor": "white",
           "lakecolor": "white",
           "landcolor": "#E5ECF6",
           "showlakes": true,
           "showland": true,
           "subunitcolor": "white"
          },
          "hoverlabel": {
           "align": "left"
          },
          "hovermode": "closest",
          "mapbox": {
           "style": "light"
          },
          "paper_bgcolor": "white",
          "plot_bgcolor": "#E5ECF6",
          "polar": {
           "angularaxis": {
            "gridcolor": "white",
            "linecolor": "white",
            "ticks": ""
           },
           "bgcolor": "#E5ECF6",
           "radialaxis": {
            "gridcolor": "white",
            "linecolor": "white",
            "ticks": ""
           }
          },
          "scene": {
           "xaxis": {
            "backgroundcolor": "#E5ECF6",
            "gridcolor": "white",
            "gridwidth": 2,
            "linecolor": "white",
            "showbackground": true,
            "ticks": "",
            "zerolinecolor": "white"
           },
           "yaxis": {
            "backgroundcolor": "#E5ECF6",
            "gridcolor": "white",
            "gridwidth": 2,
            "linecolor": "white",
            "showbackground": true,
            "ticks": "",
            "zerolinecolor": "white"
           },
           "zaxis": {
            "backgroundcolor": "#E5ECF6",
            "gridcolor": "white",
            "gridwidth": 2,
            "linecolor": "white",
            "showbackground": true,
            "ticks": "",
            "zerolinecolor": "white"
           }
          },
          "shapedefaults": {
           "line": {
            "color": "#2a3f5f"
           }
          },
          "ternary": {
           "aaxis": {
            "gridcolor": "white",
            "linecolor": "white",
            "ticks": ""
           },
           "baxis": {
            "gridcolor": "white",
            "linecolor": "white",
            "ticks": ""
           },
           "bgcolor": "#E5ECF6",
           "caxis": {
            "gridcolor": "white",
            "linecolor": "white",
            "ticks": ""
           }
          },
          "title": {
           "x": 0.05
          },
          "xaxis": {
           "automargin": true,
           "gridcolor": "white",
           "linecolor": "white",
           "ticks": "",
           "title": {
            "standoff": 15
           },
           "zerolinecolor": "white",
           "zerolinewidth": 2
          },
          "yaxis": {
           "automargin": true,
           "gridcolor": "white",
           "linecolor": "white",
           "ticks": "",
           "title": {
            "standoff": 15
           },
           "zerolinecolor": "white",
           "zerolinewidth": 2
          }
         }
        }
       }
      },
      "text/html": [
       "<div>                            <div id=\"f7c0490d-7196-4e00-b36f-6890e3d965d2\" class=\"plotly-graph-div\" style=\"height:525px; width:100%;\"></div>            <script type=\"text/javascript\">                require([\"plotly\"], function(Plotly) {                    window.PLOTLYENV=window.PLOTLYENV || {};                                    if (document.getElementById(\"f7c0490d-7196-4e00-b36f-6890e3d965d2\")) {                    Plotly.newPlot(                        \"f7c0490d-7196-4e00-b36f-6890e3d965d2\",                        [{\"hovertemplate\":\"price=%{marker.size}<br>lat=%{lat}<br>long=%{lon}<br>level=%{marker.color}<extra></extra>\",\"lat\":[47.5112,47.721,47.7379,47.5208,47.6168,47.6561,47.3097,47.4095,47.5123,47.3684,47.6007,47.69,47.7558,47.6127,47.67,47.5714,47.7277,47.6648,47.3089,47.3343],\"legendgroup\":\"\",\"lon\":[-122.257,-122.319,-122.233,-122.393,-122.045,-122.005,-122.327,-122.315,-122.337,-122.031,-122.145,-122.292,-122.229,-122.045,-122.394,-122.375,-121.962,-122.343,-122.21,-122.306],\"marker\":{\"color\":[0,2,0,2,2,3,0,0,0,1,3,2,0,1,2,3,1,2,0,0],\"coloraxis\":\"coloraxis\",\"size\":[221900.0,538000.0,180000.0,604000.0,510000.0,1225000.0,257500.0,291850.0,229500.0,323000.0,662500.0,468000.0,310000.0,400000.0,530000.0,650000.0,395000.0,485000.0,189000.0,230000.0],\"sizemode\":\"area\",\"sizeref\":5444.444444444444},\"mode\":\"markers\",\"name\":\"\",\"showlegend\":false,\"subplot\":\"mapbox\",\"type\":\"scattermapbox\"}],                        {\"template\":{\"data\":{\"bar\":[{\"error_x\":{\"color\":\"#2a3f5f\"},\"error_y\":{\"color\":\"#2a3f5f\"},\"marker\":{\"line\":{\"color\":\"#E5ECF6\",\"width\":0.5},\"pattern\":{\"fillmode\":\"overlay\",\"size\":10,\"solidity\":0.2}},\"type\":\"bar\"}],\"barpolar\":[{\"marker\":{\"line\":{\"color\":\"#E5ECF6\",\"width\":0.5},\"pattern\":{\"fillmode\":\"overlay\",\"size\":10,\"solidity\":0.2}},\"type\":\"barpolar\"}],\"carpet\":[{\"aaxis\":{\"endlinecolor\":\"#2a3f5f\",\"gridcolor\":\"white\",\"linecolor\":\"white\",\"minorgridcolor\":\"white\",\"startlinecolor\":\"#2a3f5f\"},\"baxis\":{\"endlinecolor\":\"#2a3f5f\",\"gridcolor\":\"white\",\"linecolor\":\"white\",\"minorgridcolor\":\"white\",\"startlinecolor\":\"#2a3f5f\"},\"type\":\"carpet\"}],\"choropleth\":[{\"colorbar\":{\"outlinewidth\":0,\"ticks\":\"\"},\"type\":\"choropleth\"}],\"contour\":[{\"colorbar\":{\"outlinewidth\":0,\"ticks\":\"\"},\"colorscale\":[[0.0,\"#0d0887\"],[0.1111111111111111,\"#46039f\"],[0.2222222222222222,\"#7201a8\"],[0.3333333333333333,\"#9c179e\"],[0.4444444444444444,\"#bd3786\"],[0.5555555555555556,\"#d8576b\"],[0.6666666666666666,\"#ed7953\"],[0.7777777777777778,\"#fb9f3a\"],[0.8888888888888888,\"#fdca26\"],[1.0,\"#f0f921\"]],\"type\":\"contour\"}],\"contourcarpet\":[{\"colorbar\":{\"outlinewidth\":0,\"ticks\":\"\"},\"type\":\"contourcarpet\"}],\"heatmap\":[{\"colorbar\":{\"outlinewidth\":0,\"ticks\":\"\"},\"colorscale\":[[0.0,\"#0d0887\"],[0.1111111111111111,\"#46039f\"],[0.2222222222222222,\"#7201a8\"],[0.3333333333333333,\"#9c179e\"],[0.4444444444444444,\"#bd3786\"],[0.5555555555555556,\"#d8576b\"],[0.6666666666666666,\"#ed7953\"],[0.7777777777777778,\"#fb9f3a\"],[0.8888888888888888,\"#fdca26\"],[1.0,\"#f0f921\"]],\"type\":\"heatmap\"}],\"heatmapgl\":[{\"colorbar\":{\"outlinewidth\":0,\"ticks\":\"\"},\"colorscale\":[[0.0,\"#0d0887\"],[0.1111111111111111,\"#46039f\"],[0.2222222222222222,\"#7201a8\"],[0.3333333333333333,\"#9c179e\"],[0.4444444444444444,\"#bd3786\"],[0.5555555555555556,\"#d8576b\"],[0.6666666666666666,\"#ed7953\"],[0.7777777777777778,\"#fb9f3a\"],[0.8888888888888888,\"#fdca26\"],[1.0,\"#f0f921\"]],\"type\":\"heatmapgl\"}],\"histogram\":[{\"marker\":{\"pattern\":{\"fillmode\":\"overlay\",\"size\":10,\"solidity\":0.2}},\"type\":\"histogram\"}],\"histogram2d\":[{\"colorbar\":{\"outlinewidth\":0,\"ticks\":\"\"},\"colorscale\":[[0.0,\"#0d0887\"],[0.1111111111111111,\"#46039f\"],[0.2222222222222222,\"#7201a8\"],[0.3333333333333333,\"#9c179e\"],[0.4444444444444444,\"#bd3786\"],[0.5555555555555556,\"#d8576b\"],[0.6666666666666666,\"#ed7953\"],[0.7777777777777778,\"#fb9f3a\"],[0.8888888888888888,\"#fdca26\"],[1.0,\"#f0f921\"]],\"type\":\"histogram2d\"}],\"histogram2dcontour\":[{\"colorbar\":{\"outlinewidth\":0,\"ticks\":\"\"},\"colorscale\":[[0.0,\"#0d0887\"],[0.1111111111111111,\"#46039f\"],[0.2222222222222222,\"#7201a8\"],[0.3333333333333333,\"#9c179e\"],[0.4444444444444444,\"#bd3786\"],[0.5555555555555556,\"#d8576b\"],[0.6666666666666666,\"#ed7953\"],[0.7777777777777778,\"#fb9f3a\"],[0.8888888888888888,\"#fdca26\"],[1.0,\"#f0f921\"]],\"type\":\"histogram2dcontour\"}],\"mesh3d\":[{\"colorbar\":{\"outlinewidth\":0,\"ticks\":\"\"},\"type\":\"mesh3d\"}],\"parcoords\":[{\"line\":{\"colorbar\":{\"outlinewidth\":0,\"ticks\":\"\"}},\"type\":\"parcoords\"}],\"pie\":[{\"automargin\":true,\"type\":\"pie\"}],\"scatter\":[{\"marker\":{\"colorbar\":{\"outlinewidth\":0,\"ticks\":\"\"}},\"type\":\"scatter\"}],\"scatter3d\":[{\"line\":{\"colorbar\":{\"outlinewidth\":0,\"ticks\":\"\"}},\"marker\":{\"colorbar\":{\"outlinewidth\":0,\"ticks\":\"\"}},\"type\":\"scatter3d\"}],\"scattercarpet\":[{\"marker\":{\"colorbar\":{\"outlinewidth\":0,\"ticks\":\"\"}},\"type\":\"scattercarpet\"}],\"scattergeo\":[{\"marker\":{\"colorbar\":{\"outlinewidth\":0,\"ticks\":\"\"}},\"type\":\"scattergeo\"}],\"scattergl\":[{\"marker\":{\"colorbar\":{\"outlinewidth\":0,\"ticks\":\"\"}},\"type\":\"scattergl\"}],\"scattermapbox\":[{\"marker\":{\"colorbar\":{\"outlinewidth\":0,\"ticks\":\"\"}},\"type\":\"scattermapbox\"}],\"scatterpolar\":[{\"marker\":{\"colorbar\":{\"outlinewidth\":0,\"ticks\":\"\"}},\"type\":\"scatterpolar\"}],\"scatterpolargl\":[{\"marker\":{\"colorbar\":{\"outlinewidth\":0,\"ticks\":\"\"}},\"type\":\"scatterpolargl\"}],\"scatterternary\":[{\"marker\":{\"colorbar\":{\"outlinewidth\":0,\"ticks\":\"\"}},\"type\":\"scatterternary\"}],\"surface\":[{\"colorbar\":{\"outlinewidth\":0,\"ticks\":\"\"},\"colorscale\":[[0.0,\"#0d0887\"],[0.1111111111111111,\"#46039f\"],[0.2222222222222222,\"#7201a8\"],[0.3333333333333333,\"#9c179e\"],[0.4444444444444444,\"#bd3786\"],[0.5555555555555556,\"#d8576b\"],[0.6666666666666666,\"#ed7953\"],[0.7777777777777778,\"#fb9f3a\"],[0.8888888888888888,\"#fdca26\"],[1.0,\"#f0f921\"]],\"type\":\"surface\"}],\"table\":[{\"cells\":{\"fill\":{\"color\":\"#EBF0F8\"},\"line\":{\"color\":\"white\"}},\"header\":{\"fill\":{\"color\":\"#C8D4E3\"},\"line\":{\"color\":\"white\"}},\"type\":\"table\"}]},\"layout\":{\"annotationdefaults\":{\"arrowcolor\":\"#2a3f5f\",\"arrowhead\":0,\"arrowwidth\":1},\"autotypenumbers\":\"strict\",\"coloraxis\":{\"colorbar\":{\"outlinewidth\":0,\"ticks\":\"\"}},\"colorscale\":{\"diverging\":[[0,\"#8e0152\"],[0.1,\"#c51b7d\"],[0.2,\"#de77ae\"],[0.3,\"#f1b6da\"],[0.4,\"#fde0ef\"],[0.5,\"#f7f7f7\"],[0.6,\"#e6f5d0\"],[0.7,\"#b8e186\"],[0.8,\"#7fbc41\"],[0.9,\"#4d9221\"],[1,\"#276419\"]],\"sequential\":[[0.0,\"#0d0887\"],[0.1111111111111111,\"#46039f\"],[0.2222222222222222,\"#7201a8\"],[0.3333333333333333,\"#9c179e\"],[0.4444444444444444,\"#bd3786\"],[0.5555555555555556,\"#d8576b\"],[0.6666666666666666,\"#ed7953\"],[0.7777777777777778,\"#fb9f3a\"],[0.8888888888888888,\"#fdca26\"],[1.0,\"#f0f921\"]],\"sequentialminus\":[[0.0,\"#0d0887\"],[0.1111111111111111,\"#46039f\"],[0.2222222222222222,\"#7201a8\"],[0.3333333333333333,\"#9c179e\"],[0.4444444444444444,\"#bd3786\"],[0.5555555555555556,\"#d8576b\"],[0.6666666666666666,\"#ed7953\"],[0.7777777777777778,\"#fb9f3a\"],[0.8888888888888888,\"#fdca26\"],[1.0,\"#f0f921\"]]},\"colorway\":[\"#636efa\",\"#EF553B\",\"#00cc96\",\"#ab63fa\",\"#FFA15A\",\"#19d3f3\",\"#FF6692\",\"#B6E880\",\"#FF97FF\",\"#FECB52\"],\"font\":{\"color\":\"#2a3f5f\"},\"geo\":{\"bgcolor\":\"white\",\"lakecolor\":\"white\",\"landcolor\":\"#E5ECF6\",\"showlakes\":true,\"showland\":true,\"subunitcolor\":\"white\"},\"hoverlabel\":{\"align\":\"left\"},\"hovermode\":\"closest\",\"mapbox\":{\"style\":\"light\"},\"paper_bgcolor\":\"white\",\"plot_bgcolor\":\"#E5ECF6\",\"polar\":{\"angularaxis\":{\"gridcolor\":\"white\",\"linecolor\":\"white\",\"ticks\":\"\"},\"bgcolor\":\"#E5ECF6\",\"radialaxis\":{\"gridcolor\":\"white\",\"linecolor\":\"white\",\"ticks\":\"\"}},\"scene\":{\"xaxis\":{\"backgroundcolor\":\"#E5ECF6\",\"gridcolor\":\"white\",\"gridwidth\":2,\"linecolor\":\"white\",\"showbackground\":true,\"ticks\":\"\",\"zerolinecolor\":\"white\"},\"yaxis\":{\"backgroundcolor\":\"#E5ECF6\",\"gridcolor\":\"white\",\"gridwidth\":2,\"linecolor\":\"white\",\"showbackground\":true,\"ticks\":\"\",\"zerolinecolor\":\"white\"},\"zaxis\":{\"backgroundcolor\":\"#E5ECF6\",\"gridcolor\":\"white\",\"gridwidth\":2,\"linecolor\":\"white\",\"showbackground\":true,\"ticks\":\"\",\"zerolinecolor\":\"white\"}},\"shapedefaults\":{\"line\":{\"color\":\"#2a3f5f\"}},\"ternary\":{\"aaxis\":{\"gridcolor\":\"white\",\"linecolor\":\"white\",\"ticks\":\"\"},\"baxis\":{\"gridcolor\":\"white\",\"linecolor\":\"white\",\"ticks\":\"\"},\"bgcolor\":\"#E5ECF6\",\"caxis\":{\"gridcolor\":\"white\",\"linecolor\":\"white\",\"ticks\":\"\"}},\"title\":{\"x\":0.05},\"xaxis\":{\"automargin\":true,\"gridcolor\":\"white\",\"linecolor\":\"white\",\"ticks\":\"\",\"title\":{\"standoff\":15},\"zerolinecolor\":\"white\",\"zerolinewidth\":2},\"yaxis\":{\"automargin\":true,\"gridcolor\":\"white\",\"linecolor\":\"white\",\"ticks\":\"\",\"title\":{\"standoff\":15},\"zerolinecolor\":\"white\",\"zerolinewidth\":2}}},\"mapbox\":{\"domain\":{\"x\":[0.0,1.0],\"y\":[0.0,1.0]},\"center\":{\"lat\":47.565000000000005,\"lon\":-122.22815},\"zoom\":9,\"style\":\"open-street-map\"},\"coloraxis\":{\"colorbar\":{\"title\":{\"text\":\"level\"}},\"colorscale\":[[0.0,\"rgb(3, 35, 51)\"],[0.09090909090909091,\"rgb(13, 48, 100)\"],[0.18181818181818182,\"rgb(53, 50, 155)\"],[0.2727272727272727,\"rgb(93, 62, 153)\"],[0.36363636363636365,\"rgb(126, 77, 143)\"],[0.45454545454545453,\"rgb(158, 89, 135)\"],[0.5454545454545454,\"rgb(193, 100, 121)\"],[0.6363636363636364,\"rgb(225, 113, 97)\"],[0.7272727272727273,\"rgb(246, 139, 69)\"],[0.8181818181818182,\"rgb(251, 173, 60)\"],[0.9090909090909091,\"rgb(246, 211, 70)\"],[1.0,\"rgb(231, 250, 90)\"]]},\"legend\":{\"tracegroupgap\":0,\"itemsizing\":\"constant\"},\"margin\":{\"t\":0,\"r\":0,\"l\":0,\"b\":0}},                        {\"responsive\": true}                    ).then(function(){\n",
       "                            \n",
       "var gd = document.getElementById('f7c0490d-7196-4e00-b36f-6890e3d965d2');\n",
       "var x = new MutationObserver(function (mutations, observer) {{\n",
       "        var display = window.getComputedStyle(gd).display;\n",
       "        if (!display || display === 'none') {{\n",
       "            console.log([gd, 'removed!']);\n",
       "            Plotly.purge(gd);\n",
       "            observer.disconnect();\n",
       "        }}\n",
       "}});\n",
       "\n",
       "// Listen for the removal of the full notebook cells\n",
       "var notebookContainer = gd.closest('#notebook-container');\n",
       "if (notebookContainer) {{\n",
       "    x.observe(notebookContainer, {childList: true});\n",
       "}}\n",
       "\n",
       "// Listen for the clearing of the current output cell\n",
       "var outputEl = gd.closest('.output');\n",
       "if (outputEl) {{\n",
       "    x.observe(outputEl, {childList: true});\n",
       "}}\n",
       "\n",
       "                        })                };                });            </script>        </div>"
      ]
     },
     "metadata": {},
     "output_type": "display_data"
    }
   ],
   "source": [
    "\n",
    "data_raw = data_collect('archive/kc_house_data.csv')\n",
    "    \n",
    "data_processing = data_transform(data_raw)\n",
    "\n",
    "data_load(data_processing)\n"
   ]
  },
  {
   "cell_type": "code",
   "execution_count": 30,
   "id": "db2998c8",
   "metadata": {
    "ExecuteTime": {
     "end_time": "2022-05-12T01:59:15.196434Z",
     "start_time": "2022-05-12T01:59:15.165491Z"
    }
   },
   "outputs": [
    {
     "data": {
      "text/html": [
       "<div>\n",
       "<style scoped>\n",
       "    .dataframe tbody tr th:only-of-type {\n",
       "        vertical-align: middle;\n",
       "    }\n",
       "\n",
       "    .dataframe tbody tr th {\n",
       "        vertical-align: top;\n",
       "    }\n",
       "\n",
       "    .dataframe thead th {\n",
       "        text-align: right;\n",
       "    }\n",
       "</style>\n",
       "<table border=\"1\" class=\"dataframe\">\n",
       "  <thead>\n",
       "    <tr style=\"text-align: right;\">\n",
       "      <th></th>\n",
       "      <th>id</th>\n",
       "      <th>date</th>\n",
       "      <th>price</th>\n",
       "      <th>bedrooms</th>\n",
       "      <th>bathrooms</th>\n",
       "      <th>sqft_living</th>\n",
       "      <th>sqft_lot</th>\n",
       "      <th>floors</th>\n",
       "      <th>waterfront</th>\n",
       "      <th>view</th>\n",
       "      <th>...</th>\n",
       "      <th>yr_renovated</th>\n",
       "      <th>zipcode</th>\n",
       "      <th>lat</th>\n",
       "      <th>long</th>\n",
       "      <th>sqft_living15</th>\n",
       "      <th>sqft_lot15</th>\n",
       "      <th>dormitory_type</th>\n",
       "      <th>level</th>\n",
       "      <th>road</th>\n",
       "      <th>house_number</th>\n",
       "    </tr>\n",
       "  </thead>\n",
       "  <tbody>\n",
       "    <tr>\n",
       "      <th>0</th>\n",
       "      <td>7129300520</td>\n",
       "      <td>20141013T000000</td>\n",
       "      <td>221900.000</td>\n",
       "      <td>3</td>\n",
       "      <td>1.000</td>\n",
       "      <td>1180</td>\n",
       "      <td>5650</td>\n",
       "      <td>1.000</td>\n",
       "      <td>0</td>\n",
       "      <td>0</td>\n",
       "      <td>...</td>\n",
       "      <td>0</td>\n",
       "      <td>98178</td>\n",
       "      <td>47.511</td>\n",
       "      <td>-122.257</td>\n",
       "      <td>1340</td>\n",
       "      <td>5650</td>\n",
       "      <td>house</td>\n",
       "      <td>0</td>\n",
       "      <td>61st Avenue South</td>\n",
       "      <td>10012</td>\n",
       "    </tr>\n",
       "    <tr>\n",
       "      <th>1</th>\n",
       "      <td>6414100192</td>\n",
       "      <td>20141209T000000</td>\n",
       "      <td>538000.000</td>\n",
       "      <td>3</td>\n",
       "      <td>2.250</td>\n",
       "      <td>2570</td>\n",
       "      <td>7242</td>\n",
       "      <td>2.000</td>\n",
       "      <td>0</td>\n",
       "      <td>0</td>\n",
       "      <td>...</td>\n",
       "      <td>1991</td>\n",
       "      <td>98125</td>\n",
       "      <td>47.721</td>\n",
       "      <td>-122.319</td>\n",
       "      <td>1690</td>\n",
       "      <td>7639</td>\n",
       "      <td>house</td>\n",
       "      <td>2</td>\n",
       "      <td>Northeast 127th Street</td>\n",
       "      <td>837</td>\n",
       "    </tr>\n",
       "    <tr>\n",
       "      <th>2</th>\n",
       "      <td>5631500400</td>\n",
       "      <td>20150225T000000</td>\n",
       "      <td>180000.000</td>\n",
       "      <td>2</td>\n",
       "      <td>1.000</td>\n",
       "      <td>770</td>\n",
       "      <td>10000</td>\n",
       "      <td>1.000</td>\n",
       "      <td>0</td>\n",
       "      <td>0</td>\n",
       "      <td>...</td>\n",
       "      <td>0</td>\n",
       "      <td>98028</td>\n",
       "      <td>47.738</td>\n",
       "      <td>-122.233</td>\n",
       "      <td>2720</td>\n",
       "      <td>8062</td>\n",
       "      <td>apartament</td>\n",
       "      <td>0</td>\n",
       "      <td>81st Avenue Northeast</td>\n",
       "      <td>15109</td>\n",
       "    </tr>\n",
       "    <tr>\n",
       "      <th>3</th>\n",
       "      <td>2487200875</td>\n",
       "      <td>20141209T000000</td>\n",
       "      <td>604000.000</td>\n",
       "      <td>4</td>\n",
       "      <td>3.000</td>\n",
       "      <td>1960</td>\n",
       "      <td>5000</td>\n",
       "      <td>1.000</td>\n",
       "      <td>0</td>\n",
       "      <td>0</td>\n",
       "      <td>...</td>\n",
       "      <td>0</td>\n",
       "      <td>98136</td>\n",
       "      <td>47.521</td>\n",
       "      <td>-122.393</td>\n",
       "      <td>1360</td>\n",
       "      <td>5000</td>\n",
       "      <td>house</td>\n",
       "      <td>2</td>\n",
       "      <td>Fauntleroy Way Southwest</td>\n",
       "      <td>9236</td>\n",
       "    </tr>\n",
       "    <tr>\n",
       "      <th>4</th>\n",
       "      <td>1954400510</td>\n",
       "      <td>20150218T000000</td>\n",
       "      <td>510000.000</td>\n",
       "      <td>3</td>\n",
       "      <td>2.000</td>\n",
       "      <td>1680</td>\n",
       "      <td>8080</td>\n",
       "      <td>1.000</td>\n",
       "      <td>0</td>\n",
       "      <td>0</td>\n",
       "      <td>...</td>\n",
       "      <td>0</td>\n",
       "      <td>98074</td>\n",
       "      <td>47.617</td>\n",
       "      <td>-122.045</td>\n",
       "      <td>1800</td>\n",
       "      <td>7503</td>\n",
       "      <td>house</td>\n",
       "      <td>2</td>\n",
       "      <td>221st Avenue Northeast</td>\n",
       "      <td>923</td>\n",
       "    </tr>\n",
       "    <tr>\n",
       "      <th>5</th>\n",
       "      <td>7237550310</td>\n",
       "      <td>20140512T000000</td>\n",
       "      <td>1225000.000</td>\n",
       "      <td>4</td>\n",
       "      <td>4.500</td>\n",
       "      <td>5420</td>\n",
       "      <td>101930</td>\n",
       "      <td>1.000</td>\n",
       "      <td>0</td>\n",
       "      <td>0</td>\n",
       "      <td>...</td>\n",
       "      <td>0</td>\n",
       "      <td>98053</td>\n",
       "      <td>47.656</td>\n",
       "      <td>-122.005</td>\n",
       "      <td>4760</td>\n",
       "      <td>101930</td>\n",
       "      <td>house</td>\n",
       "      <td>3</td>\n",
       "      <td>Northeast Patterson Way</td>\n",
       "      <td>25005</td>\n",
       "    </tr>\n",
       "    <tr>\n",
       "      <th>6</th>\n",
       "      <td>1321400060</td>\n",
       "      <td>20140627T000000</td>\n",
       "      <td>257500.000</td>\n",
       "      <td>3</td>\n",
       "      <td>2.250</td>\n",
       "      <td>1715</td>\n",
       "      <td>6819</td>\n",
       "      <td>2.000</td>\n",
       "      <td>0</td>\n",
       "      <td>0</td>\n",
       "      <td>...</td>\n",
       "      <td>0</td>\n",
       "      <td>98003</td>\n",
       "      <td>47.310</td>\n",
       "      <td>-122.327</td>\n",
       "      <td>2238</td>\n",
       "      <td>6819</td>\n",
       "      <td>house</td>\n",
       "      <td>0</td>\n",
       "      <td>South 330th Place</td>\n",
       "      <td>533</td>\n",
       "    </tr>\n",
       "    <tr>\n",
       "      <th>7</th>\n",
       "      <td>2008000270</td>\n",
       "      <td>20150115T000000</td>\n",
       "      <td>291850.000</td>\n",
       "      <td>3</td>\n",
       "      <td>1.500</td>\n",
       "      <td>1060</td>\n",
       "      <td>9711</td>\n",
       "      <td>1.000</td>\n",
       "      <td>0</td>\n",
       "      <td>0</td>\n",
       "      <td>...</td>\n",
       "      <td>0</td>\n",
       "      <td>98198</td>\n",
       "      <td>47.410</td>\n",
       "      <td>-122.315</td>\n",
       "      <td>1650</td>\n",
       "      <td>9711</td>\n",
       "      <td>house</td>\n",
       "      <td>0</td>\n",
       "      <td>14th Avenue South</td>\n",
       "      <td>21421</td>\n",
       "    </tr>\n",
       "    <tr>\n",
       "      <th>8</th>\n",
       "      <td>2414600126</td>\n",
       "      <td>20150415T000000</td>\n",
       "      <td>229500.000</td>\n",
       "      <td>3</td>\n",
       "      <td>1.000</td>\n",
       "      <td>1780</td>\n",
       "      <td>7470</td>\n",
       "      <td>1.000</td>\n",
       "      <td>0</td>\n",
       "      <td>0</td>\n",
       "      <td>...</td>\n",
       "      <td>0</td>\n",
       "      <td>98146</td>\n",
       "      <td>47.512</td>\n",
       "      <td>-122.337</td>\n",
       "      <td>1780</td>\n",
       "      <td>8113</td>\n",
       "      <td>house</td>\n",
       "      <td>0</td>\n",
       "      <td>Southwest 102nd Street</td>\n",
       "      <td>216</td>\n",
       "    </tr>\n",
       "    <tr>\n",
       "      <th>9</th>\n",
       "      <td>3793500160</td>\n",
       "      <td>20150312T000000</td>\n",
       "      <td>323000.000</td>\n",
       "      <td>3</td>\n",
       "      <td>2.500</td>\n",
       "      <td>1890</td>\n",
       "      <td>6560</td>\n",
       "      <td>2.000</td>\n",
       "      <td>0</td>\n",
       "      <td>0</td>\n",
       "      <td>...</td>\n",
       "      <td>0</td>\n",
       "      <td>98038</td>\n",
       "      <td>47.368</td>\n",
       "      <td>-122.031</td>\n",
       "      <td>2390</td>\n",
       "      <td>7570</td>\n",
       "      <td>house</td>\n",
       "      <td>1</td>\n",
       "      <td>232nd Place Southeast</td>\n",
       "      <td>26007</td>\n",
       "    </tr>\n",
       "    <tr>\n",
       "      <th>10</th>\n",
       "      <td>1736800520</td>\n",
       "      <td>20150403T000000</td>\n",
       "      <td>662500.000</td>\n",
       "      <td>3</td>\n",
       "      <td>2.500</td>\n",
       "      <td>3560</td>\n",
       "      <td>9796</td>\n",
       "      <td>1.000</td>\n",
       "      <td>0</td>\n",
       "      <td>0</td>\n",
       "      <td>...</td>\n",
       "      <td>0</td>\n",
       "      <td>98007</td>\n",
       "      <td>47.601</td>\n",
       "      <td>-122.145</td>\n",
       "      <td>2210</td>\n",
       "      <td>8925</td>\n",
       "      <td>house</td>\n",
       "      <td>3</td>\n",
       "      <td>146th Avenue Southeast</td>\n",
       "      <td>NA</td>\n",
       "    </tr>\n",
       "    <tr>\n",
       "      <th>11</th>\n",
       "      <td>9212900260</td>\n",
       "      <td>20140527T000000</td>\n",
       "      <td>468000.000</td>\n",
       "      <td>2</td>\n",
       "      <td>1.000</td>\n",
       "      <td>1160</td>\n",
       "      <td>6000</td>\n",
       "      <td>1.000</td>\n",
       "      <td>0</td>\n",
       "      <td>0</td>\n",
       "      <td>...</td>\n",
       "      <td>0</td>\n",
       "      <td>98115</td>\n",
       "      <td>47.690</td>\n",
       "      <td>-122.292</td>\n",
       "      <td>1330</td>\n",
       "      <td>6000</td>\n",
       "      <td>apartament</td>\n",
       "      <td>2</td>\n",
       "      <td>Northeast 85th Street</td>\n",
       "      <td>3169</td>\n",
       "    </tr>\n",
       "    <tr>\n",
       "      <th>12</th>\n",
       "      <td>114101516</td>\n",
       "      <td>20140528T000000</td>\n",
       "      <td>310000.000</td>\n",
       "      <td>3</td>\n",
       "      <td>1.000</td>\n",
       "      <td>1430</td>\n",
       "      <td>19901</td>\n",
       "      <td>1.500</td>\n",
       "      <td>0</td>\n",
       "      <td>0</td>\n",
       "      <td>...</td>\n",
       "      <td>0</td>\n",
       "      <td>98028</td>\n",
       "      <td>47.756</td>\n",
       "      <td>-122.229</td>\n",
       "      <td>1780</td>\n",
       "      <td>12697</td>\n",
       "      <td>house</td>\n",
       "      <td>0</td>\n",
       "      <td>NE 176th Court</td>\n",
       "      <td>8308</td>\n",
       "    </tr>\n",
       "    <tr>\n",
       "      <th>13</th>\n",
       "      <td>6054650070</td>\n",
       "      <td>20141007T000000</td>\n",
       "      <td>400000.000</td>\n",
       "      <td>3</td>\n",
       "      <td>1.750</td>\n",
       "      <td>1370</td>\n",
       "      <td>9680</td>\n",
       "      <td>1.000</td>\n",
       "      <td>0</td>\n",
       "      <td>0</td>\n",
       "      <td>...</td>\n",
       "      <td>0</td>\n",
       "      <td>98074</td>\n",
       "      <td>47.613</td>\n",
       "      <td>-122.045</td>\n",
       "      <td>1370</td>\n",
       "      <td>10208</td>\n",
       "      <td>house</td>\n",
       "      <td>1</td>\n",
       "      <td>Northeast 3rd Place</td>\n",
       "      <td>22144</td>\n",
       "    </tr>\n",
       "    <tr>\n",
       "      <th>14</th>\n",
       "      <td>1175000570</td>\n",
       "      <td>20150312T000000</td>\n",
       "      <td>530000.000</td>\n",
       "      <td>5</td>\n",
       "      <td>2.000</td>\n",
       "      <td>1810</td>\n",
       "      <td>4850</td>\n",
       "      <td>1.500</td>\n",
       "      <td>0</td>\n",
       "      <td>0</td>\n",
       "      <td>...</td>\n",
       "      <td>0</td>\n",
       "      <td>98107</td>\n",
       "      <td>47.670</td>\n",
       "      <td>-122.394</td>\n",
       "      <td>1360</td>\n",
       "      <td>4850</td>\n",
       "      <td>house</td>\n",
       "      <td>2</td>\n",
       "      <td>Northwest 57th Street</td>\n",
       "      <td>2825</td>\n",
       "    </tr>\n",
       "    <tr>\n",
       "      <th>15</th>\n",
       "      <td>9297300055</td>\n",
       "      <td>20150124T000000</td>\n",
       "      <td>650000.000</td>\n",
       "      <td>4</td>\n",
       "      <td>3.000</td>\n",
       "      <td>2950</td>\n",
       "      <td>5000</td>\n",
       "      <td>2.000</td>\n",
       "      <td>0</td>\n",
       "      <td>3</td>\n",
       "      <td>...</td>\n",
       "      <td>0</td>\n",
       "      <td>98126</td>\n",
       "      <td>47.571</td>\n",
       "      <td>-122.375</td>\n",
       "      <td>2140</td>\n",
       "      <td>4000</td>\n",
       "      <td>house</td>\n",
       "      <td>3</td>\n",
       "      <td>33rd Avenue Southwest</td>\n",
       "      <td>3614</td>\n",
       "    </tr>\n",
       "    <tr>\n",
       "      <th>16</th>\n",
       "      <td>1875500060</td>\n",
       "      <td>20140731T000000</td>\n",
       "      <td>395000.000</td>\n",
       "      <td>3</td>\n",
       "      <td>2.000</td>\n",
       "      <td>1890</td>\n",
       "      <td>14040</td>\n",
       "      <td>2.000</td>\n",
       "      <td>0</td>\n",
       "      <td>0</td>\n",
       "      <td>...</td>\n",
       "      <td>0</td>\n",
       "      <td>98019</td>\n",
       "      <td>47.728</td>\n",
       "      <td>-121.962</td>\n",
       "      <td>1890</td>\n",
       "      <td>14018</td>\n",
       "      <td>house</td>\n",
       "      <td>1</td>\n",
       "      <td>Northeast 141st Place</td>\n",
       "      <td>28272</td>\n",
       "    </tr>\n",
       "    <tr>\n",
       "      <th>17</th>\n",
       "      <td>6865200140</td>\n",
       "      <td>20140529T000000</td>\n",
       "      <td>485000.000</td>\n",
       "      <td>4</td>\n",
       "      <td>1.000</td>\n",
       "      <td>1600</td>\n",
       "      <td>4300</td>\n",
       "      <td>1.500</td>\n",
       "      <td>0</td>\n",
       "      <td>0</td>\n",
       "      <td>...</td>\n",
       "      <td>0</td>\n",
       "      <td>98103</td>\n",
       "      <td>47.665</td>\n",
       "      <td>-122.343</td>\n",
       "      <td>1610</td>\n",
       "      <td>4300</td>\n",
       "      <td>house</td>\n",
       "      <td>2</td>\n",
       "      <td>North 50th Street</td>\n",
       "      <td>1215</td>\n",
       "    </tr>\n",
       "    <tr>\n",
       "      <th>18</th>\n",
       "      <td>16000397</td>\n",
       "      <td>20141205T000000</td>\n",
       "      <td>189000.000</td>\n",
       "      <td>2</td>\n",
       "      <td>1.000</td>\n",
       "      <td>1200</td>\n",
       "      <td>9850</td>\n",
       "      <td>1.000</td>\n",
       "      <td>0</td>\n",
       "      <td>0</td>\n",
       "      <td>...</td>\n",
       "      <td>0</td>\n",
       "      <td>98002</td>\n",
       "      <td>47.309</td>\n",
       "      <td>-122.210</td>\n",
       "      <td>1060</td>\n",
       "      <td>5095</td>\n",
       "      <td>apartament</td>\n",
       "      <td>0</td>\n",
       "      <td>Pike Street Northeast</td>\n",
       "      <td>19</td>\n",
       "    </tr>\n",
       "    <tr>\n",
       "      <th>19</th>\n",
       "      <td>7983200060</td>\n",
       "      <td>20150424T000000</td>\n",
       "      <td>230000.000</td>\n",
       "      <td>3</td>\n",
       "      <td>1.000</td>\n",
       "      <td>1250</td>\n",
       "      <td>9774</td>\n",
       "      <td>1.000</td>\n",
       "      <td>0</td>\n",
       "      <td>0</td>\n",
       "      <td>...</td>\n",
       "      <td>0</td>\n",
       "      <td>98003</td>\n",
       "      <td>47.334</td>\n",
       "      <td>-122.306</td>\n",
       "      <td>1280</td>\n",
       "      <td>8850</td>\n",
       "      <td>house</td>\n",
       "      <td>0</td>\n",
       "      <td>21st Avenue South</td>\n",
       "      <td>29826</td>\n",
       "    </tr>\n",
       "  </tbody>\n",
       "</table>\n",
       "<p>20 rows × 25 columns</p>\n",
       "</div>"
      ],
      "text/plain": [
       "            id             date       price  bedrooms  bathrooms  sqft_living  \\\n",
       "0   7129300520  20141013T000000  221900.000         3      1.000         1180   \n",
       "1   6414100192  20141209T000000  538000.000         3      2.250         2570   \n",
       "2   5631500400  20150225T000000  180000.000         2      1.000          770   \n",
       "3   2487200875  20141209T000000  604000.000         4      3.000         1960   \n",
       "4   1954400510  20150218T000000  510000.000         3      2.000         1680   \n",
       "5   7237550310  20140512T000000 1225000.000         4      4.500         5420   \n",
       "6   1321400060  20140627T000000  257500.000         3      2.250         1715   \n",
       "7   2008000270  20150115T000000  291850.000         3      1.500         1060   \n",
       "8   2414600126  20150415T000000  229500.000         3      1.000         1780   \n",
       "9   3793500160  20150312T000000  323000.000         3      2.500         1890   \n",
       "10  1736800520  20150403T000000  662500.000         3      2.500         3560   \n",
       "11  9212900260  20140527T000000  468000.000         2      1.000         1160   \n",
       "12   114101516  20140528T000000  310000.000         3      1.000         1430   \n",
       "13  6054650070  20141007T000000  400000.000         3      1.750         1370   \n",
       "14  1175000570  20150312T000000  530000.000         5      2.000         1810   \n",
       "15  9297300055  20150124T000000  650000.000         4      3.000         2950   \n",
       "16  1875500060  20140731T000000  395000.000         3      2.000         1890   \n",
       "17  6865200140  20140529T000000  485000.000         4      1.000         1600   \n",
       "18    16000397  20141205T000000  189000.000         2      1.000         1200   \n",
       "19  7983200060  20150424T000000  230000.000         3      1.000         1250   \n",
       "\n",
       "    sqft_lot  floors  waterfront  view  ...  yr_renovated  zipcode    lat  \\\n",
       "0       5650   1.000           0     0  ...             0    98178 47.511   \n",
       "1       7242   2.000           0     0  ...          1991    98125 47.721   \n",
       "2      10000   1.000           0     0  ...             0    98028 47.738   \n",
       "3       5000   1.000           0     0  ...             0    98136 47.521   \n",
       "4       8080   1.000           0     0  ...             0    98074 47.617   \n",
       "5     101930   1.000           0     0  ...             0    98053 47.656   \n",
       "6       6819   2.000           0     0  ...             0    98003 47.310   \n",
       "7       9711   1.000           0     0  ...             0    98198 47.410   \n",
       "8       7470   1.000           0     0  ...             0    98146 47.512   \n",
       "9       6560   2.000           0     0  ...             0    98038 47.368   \n",
       "10      9796   1.000           0     0  ...             0    98007 47.601   \n",
       "11      6000   1.000           0     0  ...             0    98115 47.690   \n",
       "12     19901   1.500           0     0  ...             0    98028 47.756   \n",
       "13      9680   1.000           0     0  ...             0    98074 47.613   \n",
       "14      4850   1.500           0     0  ...             0    98107 47.670   \n",
       "15      5000   2.000           0     3  ...             0    98126 47.571   \n",
       "16     14040   2.000           0     0  ...             0    98019 47.728   \n",
       "17      4300   1.500           0     0  ...             0    98103 47.665   \n",
       "18      9850   1.000           0     0  ...             0    98002 47.309   \n",
       "19      9774   1.000           0     0  ...             0    98003 47.334   \n",
       "\n",
       "       long  sqft_living15  sqft_lot15  dormitory_type  level  \\\n",
       "0  -122.257           1340        5650           house      0   \n",
       "1  -122.319           1690        7639           house      2   \n",
       "2  -122.233           2720        8062      apartament      0   \n",
       "3  -122.393           1360        5000           house      2   \n",
       "4  -122.045           1800        7503           house      2   \n",
       "5  -122.005           4760      101930           house      3   \n",
       "6  -122.327           2238        6819           house      0   \n",
       "7  -122.315           1650        9711           house      0   \n",
       "8  -122.337           1780        8113           house      0   \n",
       "9  -122.031           2390        7570           house      1   \n",
       "10 -122.145           2210        8925           house      3   \n",
       "11 -122.292           1330        6000      apartament      2   \n",
       "12 -122.229           1780       12697           house      0   \n",
       "13 -122.045           1370       10208           house      1   \n",
       "14 -122.394           1360        4850           house      2   \n",
       "15 -122.375           2140        4000           house      3   \n",
       "16 -121.962           1890       14018           house      1   \n",
       "17 -122.343           1610        4300           house      2   \n",
       "18 -122.210           1060        5095      apartament      0   \n",
       "19 -122.306           1280        8850           house      0   \n",
       "\n",
       "                        road  house_number  \n",
       "0          61st Avenue South         10012  \n",
       "1     Northeast 127th Street           837  \n",
       "2      81st Avenue Northeast         15109  \n",
       "3   Fauntleroy Way Southwest          9236  \n",
       "4     221st Avenue Northeast           923  \n",
       "5    Northeast Patterson Way         25005  \n",
       "6          South 330th Place           533  \n",
       "7          14th Avenue South         21421  \n",
       "8     Southwest 102nd Street           216  \n",
       "9      232nd Place Southeast         26007  \n",
       "10    146th Avenue Southeast            NA  \n",
       "11     Northeast 85th Street          3169  \n",
       "12            NE 176th Court          8308  \n",
       "13       Northeast 3rd Place         22144  \n",
       "14     Northwest 57th Street          2825  \n",
       "15     33rd Avenue Southwest          3614  \n",
       "16     Northeast 141st Place         28272  \n",
       "17         North 50th Street          1215  \n",
       "18     Pike Street Northeast            19  \n",
       "19         21st Avenue South         29826  \n",
       "\n",
       "[20 rows x 25 columns]"
      ]
     },
     "execution_count": 30,
     "metadata": {},
     "output_type": "execute_result"
    }
   ],
   "source": [
    "data_processing"
   ]
  },
  {
   "cell_type": "code",
   "execution_count": 1,
   "id": "5bbe11ef",
   "metadata": {
    "ExecuteTime": {
     "end_time": "2022-05-12T15:36:33.003218Z",
     "start_time": "2022-05-12T15:36:32.612263Z"
    }
   },
   "outputs": [
    {
     "ename": "NameError",
     "evalue": "name 'python' is not defined",
     "output_type": "error",
     "traceback": [
      "\u001b[1;31m---------------------------------------------------------------------------\u001b[0m",
      "\u001b[1;31mNameError\u001b[0m                                 Traceback (most recent call last)",
      "Input \u001b[1;32mIn [1]\u001b[0m, in \u001b[0;36m<cell line: 1>\u001b[1;34m()\u001b[0m\n\u001b[1;32m----> 1\u001b[0m \u001b[43mpython\u001b[49m\n",
      "\u001b[1;31mNameError\u001b[0m: name 'python' is not defined"
     ]
    }
   ],
   "source": [
    "python\n"
   ]
  },
  {
   "cell_type": "code",
   "execution_count": null,
   "id": "d1a6aa86",
   "metadata": {},
   "outputs": [],
   "source": []
  }
 ],
 "metadata": {
  "kernelspec": {
   "display_name": "Python 3 (ipykernel)",
   "language": "python",
   "name": "python3"
  },
  "language_info": {
   "codemirror_mode": {
    "name": "ipython",
    "version": 3
   },
   "file_extension": ".py",
   "mimetype": "text/x-python",
   "name": "python",
   "nbconvert_exporter": "python",
   "pygments_lexer": "ipython3",
   "version": "3.9.4"
  },
  "varInspector": {
   "cols": {
    "lenName": 16,
    "lenType": 16,
    "lenVar": 40
   },
   "kernels_config": {
    "python": {
     "delete_cmd_postfix": "",
     "delete_cmd_prefix": "del ",
     "library": "var_list.py",
     "varRefreshCmd": "print(var_dic_list())"
    },
    "r": {
     "delete_cmd_postfix": ") ",
     "delete_cmd_prefix": "rm(",
     "library": "var_list.r",
     "varRefreshCmd": "cat(var_dic_list()) "
    }
   },
   "types_to_exclude": [
    "module",
    "function",
    "builtin_function_or_method",
    "instance",
    "_Feature"
   ],
   "window_display": false
  }
 },
 "nbformat": 4,
 "nbformat_minor": 5
}
