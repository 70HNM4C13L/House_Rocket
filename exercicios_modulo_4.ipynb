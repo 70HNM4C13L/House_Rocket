{
 "cells": [
  {
   "cell_type": "code",
   "execution_count": 1,
   "id": "cd961001",
   "metadata": {
    "ExecuteTime": {
     "end_time": "2022-05-11T19:12:32.676181Z",
     "start_time": "2022-05-11T19:12:31.415290Z"
    }
   },
   "outputs": [],
   "source": [
    "import pandas as pd\n",
    "import ipywidgets as widgets\n",
    "from ipywidgets import fixed\n",
    "import plotly.express as px\n",
    "import seaborn as sns\n",
    "import numpy as np\n",
    "from multiprocessing import Pool\n",
    "from geopy.geocoders import Nominatim\n",
    "import defs\n",
    "from matplotlib import pyplot as plt\n",
    "from matplotlib import gridspec\n",
    "np.set_printoptions(suppress=True)\n",
    "pd.set_option('display.float_format', '{:.2f}'.format)\n",
    "from IPython.core.display import HTML\n"
   ]
  },
  {
   "cell_type": "code",
   "execution_count": 2,
   "id": "d2c01cf3",
   "metadata": {
    "ExecuteTime": {
     "end_time": "2022-05-11T19:12:32.708032Z",
     "start_time": "2022-05-11T19:12:32.677159Z"
    }
   },
   "outputs": [
    {
     "name": "stdout",
     "output_type": "stream",
     "text": [
      "%pylab is deprecated, use %matplotlib inline and import the required libraries.\n",
      "Populating the interactive namespace from numpy and matplotlib\n"
     ]
    },
    {
     "data": {
      "text/html": [
       "<style>.container{width:100% !important; }</style>]"
      ],
      "text/plain": [
       "<IPython.core.display.HTML object>"
      ]
     },
     "metadata": {},
     "output_type": "display_data"
    }
   ],
   "source": [
    "def jupyter_settings():\n",
    "    %matplotlib inline\n",
    "    %pylab inline\n",
    "    plt.style.use('bmh')\n",
    "    plt.rcParams['figure.figsize'] = [20,10]\n",
    "    plt.rcParams['font.size'] = 24\n",
    "    display(HTML('<style>.container{width:100% !important; }</style>]'))\n",
    "    pd.options.display.max_columns = None\n",
    "    pd.options.display.max_rows = None\n",
    "    pd.set_option( 'display.expand_frame_repr', False)\n",
    "    sns.set()\n",
    "jupyter_settings()"
   ]
  },
  {
   "cell_type": "code",
   "execution_count": 3,
   "id": "32e85c50",
   "metadata": {
    "ExecuteTime": {
     "end_time": "2022-05-11T19:12:32.912240Z",
     "start_time": "2022-05-11T19:12:32.710027Z"
    }
   },
   "outputs": [],
   "source": [
    "data = pd.read_csv('archive/kc_house_data.csv')\n",
    "api = pd.read_csv('archive/lat_long.csv', low_memory=False)"
   ]
  },
  {
   "cell_type": "code",
   "execution_count": 4,
   "id": "16cd4030",
   "metadata": {
    "ExecuteTime": {
     "end_time": "2022-05-11T19:12:32.960085Z",
     "start_time": "2022-05-11T19:12:32.913172Z"
    }
   },
   "outputs": [
    {
     "data": {
      "text/html": [
       "<div>\n",
       "<style scoped>\n",
       "    .dataframe tbody tr th:only-of-type {\n",
       "        vertical-align: middle;\n",
       "    }\n",
       "\n",
       "    .dataframe tbody tr th {\n",
       "        vertical-align: top;\n",
       "    }\n",
       "\n",
       "    .dataframe thead th {\n",
       "        text-align: right;\n",
       "    }\n",
       "</style>\n",
       "<table border=\"1\" class=\"dataframe\">\n",
       "  <thead>\n",
       "    <tr style=\"text-align: right;\">\n",
       "      <th></th>\n",
       "      <th>price_level</th>\n",
       "      <th>price</th>\n",
       "    </tr>\n",
       "  </thead>\n",
       "  <tbody>\n",
       "    <tr>\n",
       "      <th>0</th>\n",
       "      <td>0</td>\n",
       "      <td>251544.62</td>\n",
       "    </tr>\n",
       "    <tr>\n",
       "      <th>1</th>\n",
       "      <td>1</td>\n",
       "      <td>383596.86</td>\n",
       "    </tr>\n",
       "    <tr>\n",
       "      <th>2</th>\n",
       "      <td>2</td>\n",
       "      <td>538941.84</td>\n",
       "    </tr>\n",
       "    <tr>\n",
       "      <th>3</th>\n",
       "      <td>3</td>\n",
       "      <td>968416.68</td>\n",
       "    </tr>\n",
       "  </tbody>\n",
       "</table>\n",
       "</div>"
      ],
      "text/plain": [
       "   price_level     price\n",
       "0            0 251544.62\n",
       "1            1 383596.86\n",
       "2            2 538941.84\n",
       "3            3 968416.68"
      ]
     },
     "execution_count": 4,
     "metadata": {},
     "output_type": "execute_result"
    }
   ],
   "source": [
    "data['price_level'] = data['price'].apply(lambda x : 0 if 0 < x < 321950 else\n",
    "                                         1 if 321950 < x < 450000 else\n",
    "                                         2 if 450000 < x < 645000 else 3)\n",
    "data[['price_level', 'price']].groupby('price_level').mean().reset_index()"
   ]
  },
  {
   "cell_type": "code",
   "execution_count": null,
   "id": "88c51994",
   "metadata": {},
   "outputs": [],
   "source": []
  },
  {
   "cell_type": "code",
   "execution_count": 5,
   "id": "eea97c66",
   "metadata": {
    "ExecuteTime": {
     "end_time": "2022-05-11T19:12:32.976043Z",
     "start_time": "2022-05-11T19:12:32.961082Z"
    }
   },
   "outputs": [],
   "source": [
    "data['sqft_living_size'] = data['sqft_living'].apply(lambda x : 0 if 0 < x < 1427 else\n",
    "                                                    1 if 1427 < x < 1910 else\n",
    "                                                    2 if 1910 < x < 2550 else\n",
    "                                                    3)"
   ]
  },
  {
   "cell_type": "code",
   "execution_count": 6,
   "id": "6a869a8e",
   "metadata": {
    "ExecuteTime": {
     "end_time": "2022-05-11T19:12:32.992023Z",
     "start_time": "2022-05-11T19:12:32.977040Z"
    }
   },
   "outputs": [
    {
     "data": {
      "text/html": [
       "<div>\n",
       "<style scoped>\n",
       "    .dataframe tbody tr th:only-of-type {\n",
       "        vertical-align: middle;\n",
       "    }\n",
       "\n",
       "    .dataframe tbody tr th {\n",
       "        vertical-align: top;\n",
       "    }\n",
       "\n",
       "    .dataframe thead th {\n",
       "        text-align: right;\n",
       "    }\n",
       "</style>\n",
       "<table border=\"1\" class=\"dataframe\">\n",
       "  <thead>\n",
       "    <tr style=\"text-align: right;\">\n",
       "      <th></th>\n",
       "      <th>sqft_living_size</th>\n",
       "      <th>sqft_living</th>\n",
       "    </tr>\n",
       "  </thead>\n",
       "  <tbody>\n",
       "    <tr>\n",
       "      <th>0</th>\n",
       "      <td>0</td>\n",
       "      <td>1123.78</td>\n",
       "    </tr>\n",
       "    <tr>\n",
       "      <th>1</th>\n",
       "      <td>1</td>\n",
       "      <td>1661.24</td>\n",
       "    </tr>\n",
       "    <tr>\n",
       "      <th>2</th>\n",
       "      <td>2</td>\n",
       "      <td>2207.12</td>\n",
       "    </tr>\n",
       "    <tr>\n",
       "      <th>3</th>\n",
       "      <td>3</td>\n",
       "      <td>3297.95</td>\n",
       "    </tr>\n",
       "  </tbody>\n",
       "</table>\n",
       "</div>"
      ],
      "text/plain": [
       "   sqft_living_size  sqft_living\n",
       "0                 0      1123.78\n",
       "1                 1      1661.24\n",
       "2                 2      2207.12\n",
       "3                 3      3297.95"
      ]
     },
     "execution_count": 6,
     "metadata": {},
     "output_type": "execute_result"
    }
   ],
   "source": [
    "data[['sqft_living','sqft_living_size']].groupby('sqft_living_size').mean().reset_index()"
   ]
  },
  {
   "cell_type": "code",
   "execution_count": 7,
   "id": "0a8b52b9",
   "metadata": {
    "ExecuteTime": {
     "end_time": "2022-05-11T19:12:33.038284Z",
     "start_time": "2022-05-11T19:12:32.992997Z"
    },
    "code_folding": []
   },
   "outputs": [],
   "source": [
    "style = {'description_width': 'initial'}\n",
    "sqft_living_maximum = widgets.IntSlider(\n",
    "    value = 1600,\n",
    "    min = 290,\n",
    "    max = 13540,\n",
    "    step = 1,\n",
    "    description = 'Sqft living maximum',\n",
    "    disable = False,\n",
    "    style = style\n",
    "    )\n",
    "minimun_bathrooms = widgets.FloatSlider(\n",
    "    value = 1.0,\n",
    "    min = 0,\n",
    "    max = 8.0 , \n",
    "    step = 1.0,\n",
    "    description = 'minimun bathrooms',\n",
    "    disable = False,\n",
    "    style = style)\n",
    "price_limit = widgets.IntSlider(\n",
    "    value = 540000,\n",
    "    min = 75000,\n",
    "    max = 77000000,\n",
    "    step = 1,\n",
    "    description = 'Maximun Price',\n",
    "    disable = False,\n",
    "    style = style\n",
    "    )\n",
    "sqft_basement_limit = widgets.IntSlider(\n",
    "    value = 100,\n",
    "    min = 0,\n",
    "    max = 4820,\n",
    "    step = 1,\n",
    "    description = 'Maximun SQFT basement',\n",
    "    disable = False,\n",
    "    style = style\n",
    "    )\n",
    "condition_filter =widgets.Dropdown(\n",
    "    options = data['condition'].sort_values().unique().tolist(),\n",
    "    value = 2,\n",
    "    description = 'Condition',\n",
    "    disable = False\n",
    "    )\n",
    "yr_built = widgets.IntRangeSlider(   \n",
    "    value=[1950, 2015],\n",
    "    min=1900,\n",
    "    max=2015,\n",
    "    step=1,\n",
    "    description='Year of Built',\n",
    "    disabled=False,\n",
    "    continuous_update=False\n",
    ")"
   ]
  },
  {
   "cell_type": "code",
   "execution_count": 8,
   "id": "5f4c2fcf",
   "metadata": {
    "ExecuteTime": {
     "end_time": "2022-05-11T19:12:33.054298Z",
     "start_time": "2022-05-11T19:12:33.039181Z"
    },
    "code_folding": []
   },
   "outputs": [],
   "source": [
    "def update_map(data,living,bathrooms,price,basement,condition,built):\n",
    "    houses_filter = data[(data['sqft_living'] <= living) & \n",
    "                        (data['bathrooms'] >= bathrooms) &\n",
    "                        (data['price'] <= price) &\n",
    "                        (data['sqft_basement'] <= basement) & \n",
    "                        (data['condition'] == condition) &\n",
    "                        (data['yr_built'] <= built[1]) &\n",
    "                        (data['yr_built'] >= built[0])][['id','lat','long','price','condition','yr_built']]\n",
    "    \n",
    "    fig = px.scatter_mapbox(houses_filter,\n",
    "                           lat = 'lat',\n",
    "                           lon = 'long',\n",
    "                           color = 'yr_built',\n",
    "                           size = 'price',\n",
    "                           color_continuous_scale= px.colors.sequential.thermal,\n",
    "                           size_max = 15,\n",
    "                           zoom = 9,\n",
    "                           hover_name = 'yr_built' \n",
    "                           )\n",
    "    fig.update_layout(mapbox_style = 'open-street-map')\n",
    "    fig.update_layout(height = 600, margin = {'t':0,'b':0,'r':0,'l':0})\n",
    "    fig.show()"
   ]
  },
  {
   "cell_type": "code",
   "execution_count": 9,
   "id": "715cac64",
   "metadata": {
    "ExecuteTime": {
     "end_time": "2022-05-11T19:12:34.919246Z",
     "start_time": "2022-05-11T19:12:33.056182Z"
    },
    "code_folding": []
   },
   "outputs": [
    {
     "data": {
      "application/vnd.jupyter.widget-view+json": {
       "model_id": "bc58e3293c0a4bb1a1b3784657e75255",
       "version_major": 2,
       "version_minor": 0
      },
      "text/plain": [
       "interactive(children=(IntSlider(value=1600, description='Sqft living maximum', max=13540, min=290, style=Slide…"
      ]
     },
     "metadata": {},
     "output_type": "display_data"
    }
   ],
   "source": [
    "widgets.interactive(update_map, data=fixed(data),\n",
    "                   living = sqft_living_maximum,\n",
    "                   bathrooms = minimun_bathrooms,\n",
    "                   price = price_limit,\n",
    "                   basement = sqft_basement_limit,\n",
    "                   condition = condition_filter,\n",
    "                   built = yr_built)"
   ]
  },
  {
   "cell_type": "code",
   "execution_count": 10,
   "id": "91681c22",
   "metadata": {
    "ExecuteTime": {
     "end_time": "2022-05-11T19:12:34.934208Z",
     "start_time": "2022-05-11T19:12:34.920220Z"
    }
   },
   "outputs": [],
   "source": [
    "# sns.lineplot(x = , y = , data = , ax = )"
   ]
  },
  {
   "cell_type": "code",
   "execution_count": 11,
   "id": "9ef5161d",
   "metadata": {
    "ExecuteTime": {
     "end_time": "2022-05-11T19:12:35.172568Z",
     "start_time": "2022-05-11T19:12:34.935180Z"
    }
   },
   "outputs": [],
   "source": [
    "data['querry'] = data[['lat','long']].apply(lambda x : f'{x[\"lat\"]},{x[\"long\"]}', axis=1)"
   ]
  },
  {
   "cell_type": "code",
   "execution_count": 12,
   "id": "58ef3aa1",
   "metadata": {
    "ExecuteTime": {
     "end_time": "2022-05-11T19:12:35.188528Z",
     "start_time": "2022-05-11T19:12:35.173542Z"
    }
   },
   "outputs": [],
   "source": [
    "# def get_data(x):\n",
    "#     geolocator = Nominatim( user_agent = 'geoapiExercises', timeout=10)\n",
    "#     time.sleep(1)\n",
    "#     index, row = x\n",
    "#     geolocation = row['querry']\n",
    "#     data = geolocator.reverse(geolocation).raw\n",
    "#     address = data['address']\n",
    "#     place_id = data['place_id']\n",
    "#     osm_type = data['osm_type']\n",
    "#     country = address['country']\n",
    "#     country_code = address['country_code']\n",
    "#     return place_id, osm_type, country, country_code\n",
    "    "
   ]
  },
  {
   "cell_type": "code",
   "execution_count": 13,
   "id": "4262376a",
   "metadata": {
    "ExecuteTime": {
     "end_time": "2022-05-11T19:12:35.236375Z",
     "start_time": "2022-05-11T19:12:35.189500Z"
    }
   },
   "outputs": [],
   "source": [
    "p = Pool(3)\n",
    "df1 = data[['id','querry']].sample(10)"
   ]
  },
  {
   "cell_type": "code",
   "execution_count": 14,
   "id": "e6a19d5d",
   "metadata": {
    "ExecuteTime": {
     "end_time": "2022-05-11T19:12:42.488240Z",
     "start_time": "2022-05-11T19:12:35.238369Z"
    }
   },
   "outputs": [
    {
     "data": {
      "text/html": [
       "<div>\n",
       "<style scoped>\n",
       "    .dataframe tbody tr th:only-of-type {\n",
       "        vertical-align: middle;\n",
       "    }\n",
       "\n",
       "    .dataframe tbody tr th {\n",
       "        vertical-align: top;\n",
       "    }\n",
       "\n",
       "    .dataframe thead th {\n",
       "        text-align: right;\n",
       "    }\n",
       "</style>\n",
       "<table border=\"1\" class=\"dataframe\">\n",
       "  <thead>\n",
       "    <tr style=\"text-align: right;\">\n",
       "      <th></th>\n",
       "      <th>id</th>\n",
       "      <th>querry</th>\n",
       "      <th>place_id</th>\n",
       "      <th>osm_type</th>\n",
       "      <th>country</th>\n",
       "      <th>country_code</th>\n",
       "    </tr>\n",
       "  </thead>\n",
       "  <tbody>\n",
       "    <tr>\n",
       "      <th>4164</th>\n",
       "      <td>8682290100</td>\n",
       "      <td>47.7225,-122.029</td>\n",
       "      <td>250160271</td>\n",
       "      <td>way</td>\n",
       "      <td>United States</td>\n",
       "      <td>us</td>\n",
       "    </tr>\n",
       "    <tr>\n",
       "      <th>17750</th>\n",
       "      <td>50300090</td>\n",
       "      <td>47.3684,-122.073</td>\n",
       "      <td>230582444</td>\n",
       "      <td>way</td>\n",
       "      <td>United States</td>\n",
       "      <td>us</td>\n",
       "    </tr>\n",
       "    <tr>\n",
       "      <th>4552</th>\n",
       "      <td>5014000215</td>\n",
       "      <td>47.5694,-122.395</td>\n",
       "      <td>158445595</td>\n",
       "      <td>way</td>\n",
       "      <td>United States</td>\n",
       "      <td>us</td>\n",
       "    </tr>\n",
       "    <tr>\n",
       "      <th>12188</th>\n",
       "      <td>5350201180</td>\n",
       "      <td>47.6134,-122.282</td>\n",
       "      <td>156145550</td>\n",
       "      <td>way</td>\n",
       "      <td>United States</td>\n",
       "      <td>us</td>\n",
       "    </tr>\n",
       "    <tr>\n",
       "      <th>20391</th>\n",
       "      <td>126039467</td>\n",
       "      <td>47.7747,-122.366</td>\n",
       "      <td>249974375</td>\n",
       "      <td>way</td>\n",
       "      <td>United States</td>\n",
       "      <td>us</td>\n",
       "    </tr>\n",
       "    <tr>\n",
       "      <th>14508</th>\n",
       "      <td>7697870530</td>\n",
       "      <td>47.3674,-122.182</td>\n",
       "      <td>231806949</td>\n",
       "      <td>way</td>\n",
       "      <td>United States</td>\n",
       "      <td>us</td>\n",
       "    </tr>\n",
       "    <tr>\n",
       "      <th>16217</th>\n",
       "      <td>6073500190</td>\n",
       "      <td>47.697,-122.39</td>\n",
       "      <td>154208032</td>\n",
       "      <td>way</td>\n",
       "      <td>United States</td>\n",
       "      <td>us</td>\n",
       "    </tr>\n",
       "    <tr>\n",
       "      <th>21509</th>\n",
       "      <td>148000072</td>\n",
       "      <td>47.5779,-122.409</td>\n",
       "      <td>237408211</td>\n",
       "      <td>way</td>\n",
       "      <td>United States</td>\n",
       "      <td>us</td>\n",
       "    </tr>\n",
       "    <tr>\n",
       "      <th>18027</th>\n",
       "      <td>3300701185</td>\n",
       "      <td>47.6917,-122.38</td>\n",
       "      <td>155594529</td>\n",
       "      <td>way</td>\n",
       "      <td>United States</td>\n",
       "      <td>us</td>\n",
       "    </tr>\n",
       "    <tr>\n",
       "      <th>4542</th>\n",
       "      <td>3124089086</td>\n",
       "      <td>47.5163,-121.829</td>\n",
       "      <td>210392582</td>\n",
       "      <td>way</td>\n",
       "      <td>United States</td>\n",
       "      <td>us</td>\n",
       "    </tr>\n",
       "  </tbody>\n",
       "</table>\n",
       "</div>"
      ],
      "text/plain": [
       "               id            querry   place_id osm_type        country country_code\n",
       "4164   8682290100  47.7225,-122.029  250160271      way  United States           us\n",
       "17750    50300090  47.3684,-122.073  230582444      way  United States           us\n",
       "4552   5014000215  47.5694,-122.395  158445595      way  United States           us\n",
       "12188  5350201180  47.6134,-122.282  156145550      way  United States           us\n",
       "20391   126039467  47.7747,-122.366  249974375      way  United States           us\n",
       "14508  7697870530  47.3674,-122.182  231806949      way  United States           us\n",
       "16217  6073500190    47.697,-122.39  154208032      way  United States           us\n",
       "21509   148000072  47.5779,-122.409  237408211      way  United States           us\n",
       "18027  3300701185   47.6917,-122.38  155594529      way  United States           us\n",
       "4542   3124089086  47.5163,-121.829  210392582      way  United States           us"
      ]
     },
     "execution_count": 14,
     "metadata": {},
     "output_type": "execute_result"
    }
   ],
   "source": [
    "df1[['place_id', 'osm_type', 'country', 'country_code']] = p.map(defs.get_data, df1.iterrows())\n",
    "df1"
   ]
  },
  {
   "cell_type": "code",
   "execution_count": 15,
   "id": "6c61d9b0",
   "metadata": {
    "ExecuteTime": {
     "end_time": "2022-05-11T19:12:42.911841Z",
     "start_time": "2022-05-11T19:12:42.489258Z"
    }
   },
   "outputs": [],
   "source": [
    "data['date'] = pd.to_datetime(data['date']).dt.strftime( '%Y-%m-%d' )\n",
    "data['year'] = pd.to_datetime(data['date']).dt.strftime('%Y')\n",
    "data['year_week'] = pd.to_datetime(data['date']).dt.strftime('%Y-%U' )\n",
    "# creating filters\n",
    "date_limit = widgets.SelectionSlider(options = data['date'].sort_values().unique().tolist(),\n",
    "                                      value = '2014-12-01',\n",
    "                                      description =  'Max avaliable date',\n",
    "                                      disable = False,\n",
    "                                      continuos_update = False,\n",
    "                                      style = {'description_width':'initial'},\n",
    "                                      redout = True)\n",
    "\n",
    "\n",
    "year_limit = widgets.SelectionSlider(options = data['yr_renovated'].sort_values().unique().tolist(),\n",
    "                                      value = 2000,\n",
    "                                      description =  'Max year renovated',\n",
    "                                      disable = False,\n",
    "                                      continuos_update = False,\n",
    "                                      style = {'description_width':'initial'},\n",
    "                                      redout = True)\n",
    "\n",
    "\n",
    "waterfront_limit = widgets.Checkbox(\n",
    "    value = False,\n",
    "    description = 'Is waterfront',\n",
    "    disable = False,\n",
    "    indent = False\n",
    ")\n"
   ]
  },
  {
   "cell_type": "code",
   "execution_count": 16,
   "id": "13cac675",
   "metadata": {
    "ExecuteTime": {
     "end_time": "2022-05-11T19:12:42.927155Z",
     "start_time": "2022-05-11T19:12:42.912838Z"
    }
   },
   "outputs": [],
   "source": [
    "def update_graph(data, date_limit, year_limit, waterfront_limit):\n",
    "    #filter data\n",
    "    data_filtered = data[(data['date']<= date_limit)&\n",
    "                         (data['yr_renovated'] >= year_limit)&\n",
    "                         (data['waterfront'] == waterfront_limit)].copy()\n",
    "    \n",
    "    fig = plt.figure( figsize = (24,12))\n",
    "    specs = gridspec.GridSpec(ncols = 2, nrows = 2, figure = fig)\n",
    "    \n",
    "    ax1 = fig.add_subplot ( specs [ 0 , : ] )\n",
    "    ax2 = fig.add_subplot ( specs [ 1 , 0 ] )\n",
    "    ax3 = fig.add_subplot ( specs [ 1 , 1 ] )\n",
    "    \n",
    "    by_year = data_filtered[['id', 'year']].groupby('year').count().reset_index()\n",
    "    sns.barplot(x ='year' , y = 'id', data = by_year, ax = ax1 )\n",
    "    \n",
    "    \n",
    "    \n",
    "    by_day = data_filtered[['price','date']].groupby('date').mean().reset_index()\n",
    "    sns.lineplot(x='date',y='price',data=by_day,ax =ax2)\n",
    "    plt.xticks(rotation = 60);\n",
    "   \n",
    "    by_week = data_filtered[['price','year_week']].groupby('year_week').mean().reset_index()\n",
    "    sns.lineplot(x='year_week',y='price', data=by_week, ax =ax3)"
   ]
  },
  {
   "cell_type": "code",
   "execution_count": 17,
   "id": "33ee561d",
   "metadata": {
    "ExecuteTime": {
     "end_time": "2022-05-11T19:12:46.225120Z",
     "start_time": "2022-05-11T19:12:42.928053Z"
    }
   },
   "outputs": [
    {
     "data": {
      "application/vnd.jupyter.widget-view+json": {
       "model_id": "1377a2a450d24e528f94d5b6aebfa796",
       "version_major": 2,
       "version_minor": 0
      },
      "text/plain": [
       "interactive(children=(SelectionSlider(description='Max avaliable date', index=212, options=('2014-05-02', '201…"
      ]
     },
     "metadata": {},
     "output_type": "display_data"
    }
   ],
   "source": [
    "widgets.interactive(update_graph,\n",
    "                   data = fixed(data),\n",
    "                   date_limit = date_limit,\n",
    "                   year_limit = year_limit,\n",
    "                   waterfront_limit = waterfront_limit)"
   ]
  },
  {
   "cell_type": "code",
   "execution_count": 18,
   "id": "96451af7",
   "metadata": {
    "ExecuteTime": {
     "end_time": "2022-05-11T19:12:46.241076Z",
     "start_time": "2022-05-11T19:12:46.226096Z"
    }
   },
   "outputs": [
    {
     "name": "stdout",
     "output_type": "stream",
     "text": [
      "      price  bathrooms  floors   lat    long\n",
      "0 221900.00       1.00    1.00 47.51 -122.26\n",
      "1 538000.00       2.25    2.00 47.72 -122.32\n",
      "2 180000.00       1.00    1.00 47.74 -122.23\n",
      "3 604000.00       3.00    1.00 47.52 -122.39\n",
      "4 510000.00       2.00    1.00 47.62 -122.05\n"
     ]
    },
    {
     "data": {
      "text/html": [
       "<div>\n",
       "<style scoped>\n",
       "    .dataframe tbody tr th:only-of-type {\n",
       "        vertical-align: middle;\n",
       "    }\n",
       "\n",
       "    .dataframe tbody tr th {\n",
       "        vertical-align: top;\n",
       "    }\n",
       "\n",
       "    .dataframe thead th {\n",
       "        text-align: right;\n",
       "    }\n",
       "</style>\n",
       "<table border=\"1\" class=\"dataframe\">\n",
       "  <thead>\n",
       "    <tr style=\"text-align: right;\">\n",
       "      <th></th>\n",
       "      <th>id</th>\n",
       "      <th>date</th>\n",
       "      <th>price</th>\n",
       "      <th>bedrooms</th>\n",
       "      <th>bathrooms</th>\n",
       "      <th>sqft_living</th>\n",
       "      <th>sqft_lot</th>\n",
       "      <th>floors</th>\n",
       "      <th>waterfront</th>\n",
       "      <th>view</th>\n",
       "      <th>condition</th>\n",
       "      <th>grade</th>\n",
       "      <th>sqft_above</th>\n",
       "      <th>sqft_basement</th>\n",
       "      <th>yr_built</th>\n",
       "      <th>yr_renovated</th>\n",
       "      <th>zipcode</th>\n",
       "      <th>lat</th>\n",
       "      <th>long</th>\n",
       "      <th>sqft_living15</th>\n",
       "      <th>sqft_lot15</th>\n",
       "      <th>price_level</th>\n",
       "      <th>sqft_living_size</th>\n",
       "      <th>querry</th>\n",
       "      <th>year</th>\n",
       "      <th>year_week</th>\n",
       "    </tr>\n",
       "  </thead>\n",
       "  <tbody>\n",
       "    <tr>\n",
       "      <th>0</th>\n",
       "      <td>7129300520</td>\n",
       "      <td>2014-10-13</td>\n",
       "      <td>221900.00</td>\n",
       "      <td>3</td>\n",
       "      <td>1.00</td>\n",
       "      <td>1180</td>\n",
       "      <td>5650</td>\n",
       "      <td>1.00</td>\n",
       "      <td>0</td>\n",
       "      <td>0</td>\n",
       "      <td>3</td>\n",
       "      <td>7</td>\n",
       "      <td>1180</td>\n",
       "      <td>0</td>\n",
       "      <td>1955</td>\n",
       "      <td>0</td>\n",
       "      <td>98178</td>\n",
       "      <td>47.51</td>\n",
       "      <td>-122.26</td>\n",
       "      <td>1340</td>\n",
       "      <td>5650</td>\n",
       "      <td>0</td>\n",
       "      <td>0</td>\n",
       "      <td>47.5112,-122.257</td>\n",
       "      <td>2014</td>\n",
       "      <td>2014-41</td>\n",
       "    </tr>\n",
       "    <tr>\n",
       "      <th>1</th>\n",
       "      <td>6414100192</td>\n",
       "      <td>2014-12-09</td>\n",
       "      <td>538000.00</td>\n",
       "      <td>3</td>\n",
       "      <td>2.25</td>\n",
       "      <td>2570</td>\n",
       "      <td>7242</td>\n",
       "      <td>2.00</td>\n",
       "      <td>0</td>\n",
       "      <td>0</td>\n",
       "      <td>3</td>\n",
       "      <td>7</td>\n",
       "      <td>2170</td>\n",
       "      <td>400</td>\n",
       "      <td>1951</td>\n",
       "      <td>1991</td>\n",
       "      <td>98125</td>\n",
       "      <td>47.72</td>\n",
       "      <td>-122.32</td>\n",
       "      <td>1690</td>\n",
       "      <td>7639</td>\n",
       "      <td>2</td>\n",
       "      <td>3</td>\n",
       "      <td>47.721,-122.319</td>\n",
       "      <td>2014</td>\n",
       "      <td>2014-49</td>\n",
       "    </tr>\n",
       "    <tr>\n",
       "      <th>2</th>\n",
       "      <td>5631500400</td>\n",
       "      <td>2015-02-25</td>\n",
       "      <td>180000.00</td>\n",
       "      <td>2</td>\n",
       "      <td>1.00</td>\n",
       "      <td>770</td>\n",
       "      <td>10000</td>\n",
       "      <td>1.00</td>\n",
       "      <td>0</td>\n",
       "      <td>0</td>\n",
       "      <td>3</td>\n",
       "      <td>6</td>\n",
       "      <td>770</td>\n",
       "      <td>0</td>\n",
       "      <td>1933</td>\n",
       "      <td>0</td>\n",
       "      <td>98028</td>\n",
       "      <td>47.74</td>\n",
       "      <td>-122.23</td>\n",
       "      <td>2720</td>\n",
       "      <td>8062</td>\n",
       "      <td>0</td>\n",
       "      <td>0</td>\n",
       "      <td>47.7379,-122.233</td>\n",
       "      <td>2015</td>\n",
       "      <td>2015-08</td>\n",
       "    </tr>\n",
       "    <tr>\n",
       "      <th>3</th>\n",
       "      <td>2487200875</td>\n",
       "      <td>2014-12-09</td>\n",
       "      <td>604000.00</td>\n",
       "      <td>4</td>\n",
       "      <td>3.00</td>\n",
       "      <td>1960</td>\n",
       "      <td>5000</td>\n",
       "      <td>1.00</td>\n",
       "      <td>0</td>\n",
       "      <td>0</td>\n",
       "      <td>5</td>\n",
       "      <td>7</td>\n",
       "      <td>1050</td>\n",
       "      <td>910</td>\n",
       "      <td>1965</td>\n",
       "      <td>0</td>\n",
       "      <td>98136</td>\n",
       "      <td>47.52</td>\n",
       "      <td>-122.39</td>\n",
       "      <td>1360</td>\n",
       "      <td>5000</td>\n",
       "      <td>2</td>\n",
       "      <td>2</td>\n",
       "      <td>47.5208,-122.393</td>\n",
       "      <td>2014</td>\n",
       "      <td>2014-49</td>\n",
       "    </tr>\n",
       "    <tr>\n",
       "      <th>4</th>\n",
       "      <td>1954400510</td>\n",
       "      <td>2015-02-18</td>\n",
       "      <td>510000.00</td>\n",
       "      <td>3</td>\n",
       "      <td>2.00</td>\n",
       "      <td>1680</td>\n",
       "      <td>8080</td>\n",
       "      <td>1.00</td>\n",
       "      <td>0</td>\n",
       "      <td>0</td>\n",
       "      <td>3</td>\n",
       "      <td>8</td>\n",
       "      <td>1680</td>\n",
       "      <td>0</td>\n",
       "      <td>1987</td>\n",
       "      <td>0</td>\n",
       "      <td>98074</td>\n",
       "      <td>47.62</td>\n",
       "      <td>-122.05</td>\n",
       "      <td>1800</td>\n",
       "      <td>7503</td>\n",
       "      <td>2</td>\n",
       "      <td>1</td>\n",
       "      <td>47.6168,-122.045</td>\n",
       "      <td>2015</td>\n",
       "      <td>2015-07</td>\n",
       "    </tr>\n",
       "  </tbody>\n",
       "</table>\n",
       "</div>"
      ],
      "text/plain": [
       "           id        date     price  bedrooms  bathrooms  sqft_living  sqft_lot  floors  waterfront  view  condition  grade  sqft_above  sqft_basement  yr_built  yr_renovated  zipcode   lat    long  sqft_living15  sqft_lot15  price_level  sqft_living_size            querry  year year_week\n",
       "0  7129300520  2014-10-13 221900.00         3       1.00         1180      5650    1.00           0     0          3      7        1180              0      1955             0    98178 47.51 -122.26           1340        5650            0                 0  47.5112,-122.257  2014   2014-41\n",
       "1  6414100192  2014-12-09 538000.00         3       2.25         2570      7242    2.00           0     0          3      7        2170            400      1951          1991    98125 47.72 -122.32           1690        7639            2                 3   47.721,-122.319  2014   2014-49\n",
       "2  5631500400  2015-02-25 180000.00         2       1.00          770     10000    1.00           0     0          3      6         770              0      1933             0    98028 47.74 -122.23           2720        8062            0                 0  47.7379,-122.233  2015   2015-08\n",
       "3  2487200875  2014-12-09 604000.00         4       3.00         1960      5000    1.00           0     0          5      7        1050            910      1965             0    98136 47.52 -122.39           1360        5000            2                 2  47.5208,-122.393  2014   2014-49\n",
       "4  1954400510  2015-02-18 510000.00         3       2.00         1680      8080    1.00           0     0          3      8        1680              0      1987             0    98074 47.62 -122.05           1800        7503            2                 1  47.6168,-122.045  2015   2015-07"
      ]
     },
     "execution_count": 18,
     "metadata": {},
     "output_type": "execute_result"
    }
   ],
   "source": [
    "num_attributes = data.select_dtypes( include='float' )\n",
    "print(num_attributes.head())\n",
    "data.head()"
   ]
  },
  {
   "cell_type": "code",
   "execution_count": null,
   "id": "29291eff",
   "metadata": {},
   "outputs": [],
   "source": []
  }
 ],
 "metadata": {
  "kernelspec": {
   "display_name": "Python 3 (ipykernel)",
   "language": "python",
   "name": "python3"
  },
  "language_info": {
   "codemirror_mode": {
    "name": "ipython",
    "version": 3
   },
   "file_extension": ".py",
   "mimetype": "text/x-python",
   "name": "python",
   "nbconvert_exporter": "python",
   "pygments_lexer": "ipython3",
   "version": "3.9.4"
  },
  "varInspector": {
   "cols": {
    "lenName": 16,
    "lenType": 16,
    "lenVar": 40
   },
   "kernels_config": {
    "python": {
     "delete_cmd_postfix": "",
     "delete_cmd_prefix": "del ",
     "library": "var_list.py",
     "varRefreshCmd": "print(var_dic_list())"
    },
    "r": {
     "delete_cmd_postfix": ") ",
     "delete_cmd_prefix": "rm(",
     "library": "var_list.r",
     "varRefreshCmd": "cat(var_dic_list()) "
    }
   },
   "types_to_exclude": [
    "module",
    "function",
    "builtin_function_or_method",
    "instance",
    "_Feature"
   ],
   "window_display": false
  }
 },
 "nbformat": 4,
 "nbformat_minor": 5
}
